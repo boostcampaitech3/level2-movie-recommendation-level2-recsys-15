{
 "cells": [
  {
   "cell_type": "code",
   "execution_count": 21,
   "id": "bd8c751d-6c60-4571-b32a-a72540741268",
   "metadata": {},
   "outputs": [],
   "source": [
    "import csv\n",
    " \n",
    "f = open('output (1).csv','r') # 건웅님 파일\n",
    "rdr = csv.reader(f)\n",
    "cnt = 0\n",
    "arraylist = []\n",
    "idx = 0\n",
    "for line in rdr:\n",
    "    cnt += 1\n",
    "    if cnt > 1:\n",
    "        arraylist.append([int(line[0]),idx,line[1]])\n",
    "        idx += 1\n",
    "        if idx == 10:\n",
    "            idx = 0\n",
    "\n",
    "f.close()"
   ]
  },
  {
   "cell_type": "code",
   "execution_count": 22,
   "id": "b64a4823-f2ab-4084-8afb-5239befb4044",
   "metadata": {},
   "outputs": [],
   "source": [
    "arraylist.sort()"
   ]
  },
  {
   "cell_type": "code",
   "execution_count": 23,
   "id": "a2227ca6-7a2f-4b04-a6e2-5ffa352c25d7",
   "metadata": {},
   "outputs": [],
   "source": [
    "import csv\n",
    " \n",
    "f = open('output (2).csv','r') # 동준님 파일\n",
    "rdr = csv.reader(f)\n",
    "cnt = 0\n",
    "brraylist = []\n",
    "idx = 0\n",
    "for line in rdr:\n",
    "    cnt += 1\n",
    "    if cnt > 1:\n",
    "        brraylist.append([int(line[0]),idx,line[1]])\n",
    "        idx += 1\n",
    "        if idx == 10:\n",
    "            idx = 0\n",
    "\n",
    "f.close()"
   ]
  },
  {
   "cell_type": "code",
   "execution_count": 24,
   "id": "315f7ba8-fc35-4fa9-80f0-d5909f9df3e3",
   "metadata": {},
   "outputs": [],
   "source": [
    "brraylist.sort()"
   ]
  },
  {
   "cell_type": "code",
   "execution_count": null,
   "id": "99758791-485c-4de0-bacc-7690c3fc81cd",
   "metadata": {},
   "outputs": [],
   "source": [
    "brraylist"
   ]
  },
  {
   "cell_type": "code",
   "execution_count": 37,
   "id": "817a2568-b2de-4278-9104-d7e395f8beed",
   "metadata": {},
   "outputs": [],
   "source": [
    "import csv\n",
    " \n",
    "f = open('output (3).csv','r') # 경연님 파일\n",
    "rdr = csv.reader(f)\n",
    "cnt = 0\n",
    "crraylist = []\n",
    "idx = 0\n",
    "for line in rdr:\n",
    "    cnt += 1\n",
    "    if cnt > 1:\n",
    "        crraylist.append([int(line[0][:-2]),idx,line[1][:-2]])\n",
    "        idx += 1\n",
    "        if idx == 10:\n",
    "            idx = 0\n",
    "\n",
    "f.close()"
   ]
  },
  {
   "cell_type": "code",
   "execution_count": null,
   "id": "b13fb57c-0887-459a-a93d-ca08d351c7cd",
   "metadata": {},
   "outputs": [],
   "source": [
    "crraylist"
   ]
  },
  {
   "cell_type": "code",
   "execution_count": 58,
   "id": "8bcb7dd0-5c89-4f58-b2da-46dddfe4b987",
   "metadata": {},
   "outputs": [],
   "source": [
    "total = []\n",
    "for i in range(0,len(brraylist),10):\n",
    "    user = str(brraylist[i][0])\n",
    "    dic = {}\n",
    "    zz = set()\n",
    "    for j in range(10):\n",
    "        a = arraylist[i+j][2]\n",
    "        b = brraylist[i+j][2]\n",
    "        c = crraylist[i+j][2]\n",
    "        if a in dic:\n",
    "            dic[a] += 1\n",
    "        else:\n",
    "            dic[a] = 1\n",
    "        if b in dic:\n",
    "            dic[b] += 1\n",
    "        else:\n",
    "            dic[b] = 1\n",
    "        if c in dic:\n",
    "            dic[c] += 1\n",
    "        else:\n",
    "            dic[c] = 1\n",
    "    check = sorted(dic.items(), key = lambda x: x[1], reverse=True)\n",
    "    for j in check:\n",
    "        if j[1] > 1:\n",
    "            zz.add(j[0])\n",
    "        if len(zz) == 10:\n",
    "            for k in zz:\n",
    "                total.append([user,k])\n",
    "            break\n",
    "    if len(zz) < 10:\n",
    "        for j in range(10):\n",
    "            zz.add(arraylist[i+j][2])\n",
    "            if len(zz) == 10:\n",
    "                for k in zz:\n",
    "                    total.append([user,k])\n",
    "                break\n",
    "   \n",
    "        \n",
    "            \n"
   ]
  },
  {
   "cell_type": "code",
   "execution_count": 60,
   "id": "4fd89df5-4992-4c75-9632-f180f739c05c",
   "metadata": {},
   "outputs": [
    {
     "data": {
      "text/plain": [
       "313600"
      ]
     },
     "execution_count": 60,
     "metadata": {},
     "output_type": "execute_result"
    }
   ],
   "source": [
    "len(total)"
   ]
  },
  {
   "cell_type": "code",
   "execution_count": 61,
   "id": "89df09ed-232a-46e1-b5ee-67ff4c2c1835",
   "metadata": {},
   "outputs": [],
   "source": [
    "import csv\n",
    "fields = ['user','item']\n",
    "\n",
    "rows = total\n",
    "with open('out2.csv','w',newline='') as f:\n",
    "    write = csv.writer(f)\n",
    "    write.writerow(fields)\n",
    "    write.writerows(rows)"
   ]
  },
  {
   "cell_type": "code",
   "execution_count": null,
   "id": "b5269c57-4ffc-4607-8855-3383c44a3d54",
   "metadata": {},
   "outputs": [],
   "source": []
  }
 ],
 "metadata": {
  "kernelspec": {
   "display_name": "Python 3 (ipykernel)",
   "language": "python",
   "name": "python3"
  },
  "language_info": {
   "codemirror_mode": {
    "name": "ipython",
    "version": 3
   },
   "file_extension": ".py",
   "mimetype": "text/x-python",
   "name": "python",
   "nbconvert_exporter": "python",
   "pygments_lexer": "ipython3",
   "version": "3.8.5"
  }
 },
 "nbformat": 4,
 "nbformat_minor": 5
}
