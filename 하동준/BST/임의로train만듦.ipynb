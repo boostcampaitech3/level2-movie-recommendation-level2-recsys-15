{
 "cells": [
  {
   "cell_type": "code",
   "execution_count": 1,
   "id": "quarterly-wallet",
   "metadata": {
    "id": "resistant-artist"
   },
   "outputs": [
    {
     "name": "stderr",
     "output_type": "stream",
     "text": [
      "/opt/conda/lib/python3.8/site-packages/tqdm/auto.py:22: TqdmWarning: IProgress not found. Please update jupyter and ipywidgets. See https://ipywidgets.readthedocs.io/en/stable/user_install.html\n",
      "  from .autonotebook import tqdm as notebook_tqdm\n"
     ]
    }
   ],
   "source": [
    "import pandas as pd\n",
    "import torch\n",
    "import pytorch_lightning as pl\n",
    "from tqdm import tqdm\n",
    "import torchmetrics\n",
    "import math\n",
    "from urllib.request import urlretrieve\n",
    "from zipfile import ZipFile\n",
    "import os\n",
    "import torch.nn as nn\n",
    "import numpy as np"
   ]
  },
  {
   "cell_type": "code",
   "execution_count": 2,
   "id": "parental-uncle",
   "metadata": {
    "id": "radio-effectiveness"
   },
   "outputs": [],
   "source": [
    "users = pd.read_csv(\n",
    "    \"data/users.csv\",\n",
    "    sep=\",\",\n",
    ")\n",
    "\n",
    "ratings = pd.read_csv(\n",
    "    \"data/ratings.csv\",\n",
    "    sep=\",\",\n",
    ")\n",
    "\n",
    "movies = pd.read_csv(\n",
    "    \"data/movies.csv\", sep=\",\"\n",
    ")"
   ]
  },
  {
   "cell_type": "markdown",
   "id": "intensive-circular",
   "metadata": {
    "id": "constitutional-lyric"
   },
   "source": [
    "## Pytorch dataset"
   ]
  },
  {
   "cell_type": "code",
   "execution_count": 3,
   "id": "absolute-columbia",
   "metadata": {
    "id": "terminal-aspect"
   },
   "outputs": [],
   "source": [
    "import pandas as pd\n",
    "import torch\n",
    "import torch.utils.data as data\n",
    "from torchvision import transforms\n",
    "import ast\n",
    "from torch.nn.utils.rnn import pad_sequence\n",
    "\n",
    "class MovieDataset(data.Dataset):\n",
    "    \"\"\"Movie dataset.\"\"\"\n",
    "\n",
    "    def __init__(\n",
    "        self, ratings_file,test=False\n",
    "    ):\n",
    "        \"\"\"\n",
    "        Args:\n",
    "            csv_file (string): Path to the csv file with user,past,future.\n",
    "        \"\"\"\n",
    "        self.ratings_frame = pd.read_csv(\n",
    "            ratings_file,\n",
    "            delimiter=\",\",\n",
    "            # iterator=True,\n",
    "        )\n",
    "        self.test = test\n",
    "\n",
    "    def __len__(self):\n",
    "        return len(self.ratings_frame)\n",
    "\n",
    "    def __getitem__(self, idx):\n",
    "        data = self.ratings_frame.iloc[idx]\n",
    "        user_id = data.user_id\n",
    "        \n",
    "        movie_history = eval(data.sequence_movie_ids)\n",
    "        movie_history_ratings = eval(data.sequence_ratings)\n",
    "        target_movie_id = movie_history[-1:][0]\n",
    "        target_movie_rating = movie_history_ratings[-1:][0]\n",
    "        \n",
    "        movie_history = torch.LongTensor(movie_history[:-1])\n",
    "        movie_history_ratings = torch.LongTensor(movie_history_ratings[:-1])\n",
    "\n",
    "        \n",
    "        \n",
    "        sex = data.sex\n",
    "        age_group = data.age_group\n",
    "        occupation = data.occupation\n",
    "        \n",
    "        return user_id, movie_history, target_movie_id,  movie_history_ratings, target_movie_rating, sex, age_group, occupation"
   ]
  },
  {
   "cell_type": "code",
   "execution_count": 4,
   "id": "median-ballot",
   "metadata": {
    "id": "dominican-canberra"
   },
   "outputs": [],
   "source": [
    "genres = [\n",
    "    \"Action\",\n",
    "    \"Adventure\",\n",
    "    \"Animation\",\n",
    "    \"Children's\",\n",
    "    \"Comedy\",\n",
    "    \"Crime\",\n",
    "    \"Documentary\",\n",
    "    \"Drama\",\n",
    "    \"Fantasy\",\n",
    "    \"Film-Noir\",\n",
    "    \"Horror\",\n",
    "    \"Musical\",\n",
    "    \"Mystery\",\n",
    "    \"Romance\",\n",
    "    \"Sci-Fi\",\n",
    "    \"Thriller\",\n",
    "    \"War\",\n",
    "    \"Western\",\n",
    "]\n",
    "\n",
    "for genre in genres:\n",
    "    movies[genre] = movies[\"genres\"].apply(\n",
    "        lambda values: int(genre in values.split(\"|\"))\n",
    "    )\n",
    "    \n",
    "sequence_length = 8"
   ]
  },
  {
   "cell_type": "code",
   "execution_count": 6,
   "id": "7498db66",
   "metadata": {},
   "outputs": [
    {
     "data": {
      "text/plain": [
       "0       1\n",
       "1       1\n",
       "2       0\n",
       "3       0\n",
       "4       0\n",
       "       ..\n",
       "3878    0\n",
       "3879    0\n",
       "3880    0\n",
       "3881    0\n",
       "3882    0\n",
       "Name: Children's, Length: 3883, dtype: int64"
      ]
     },
     "execution_count": 6,
     "metadata": {},
     "output_type": "execute_result"
    }
   ],
   "source": [
    "movies[\"Children's\"]"
   ]
  },
  {
   "cell_type": "code",
   "execution_count": 5,
   "id": "dcb0271f",
   "metadata": {},
   "outputs": [],
   "source": [
    "# from torch.utils.data import DataLoader, random_split\n",
    "\n",
    "# train_dataset = MovieDataset(\"data/train_data.csv\")\n",
    "# val_dataset = MovieDataset(\"data/test_data.csv\")\n",
    "# test_dataset = MovieDataset(\"data/test_data.csv\")\n",
    "\n",
    "# train_dataloader = DataLoader(\n",
    "#     train_dataset,\n",
    "#     batch_size=128,\n",
    "#     shuffle=False,\n",
    "#     num_workers=os.cpu_count(),\n",
    "#     )\n",
    "\n",
    "# val_dataloader = DataLoader(\n",
    "#     val_dataset,\n",
    "#     batch_size=128,\n",
    "#     shuffle=False,\n",
    "#     num_workers=os.cpu_count(),\n",
    "#     )\n",
    "\n",
    "# test_dataloader = DataLoader(\n",
    "#     test_dataset,\n",
    "#     batch_size=128,\n",
    "#     shuffle=False,\n",
    "#     num_workers=os.cpu_count(),\n",
    "#     )   \n"
   ]
  },
  {
   "cell_type": "code",
   "execution_count": 7,
   "id": "starting-victor",
   "metadata": {
    "colab": {
     "referenced_widgets": [
      "",
      "83a4c8aa292f42309167fd2b3df8ff9f"
     ]
    },
    "id": "damaged-soldier",
    "outputId": "4327a927-29e4-4fdc-9769-d79c3bb64daa"
   },
   "outputs": [],
   "source": [
    "class BST(pl.LightningModule):\n",
    "    def __init__(\n",
    "        self, args=None,\n",
    "    ):\n",
    "        super().__init__()\n",
    "        super(BST, self).__init__()\n",
    "        \n",
    "        self.save_hyperparameters()\n",
    "        self.args = args\n",
    "        #-------------------\n",
    "        # Embedding layers\n",
    "        ##Users \n",
    "        self.embeddings_user_id = nn.Embedding(\n",
    "            int(users.user_id.max())+1, int(math.sqrt(users.user_id.max()))+1\n",
    "        )\n",
    "        ###Users features embeddings\n",
    "        self.embeddings_user_sex = nn.Embedding(\n",
    "            len(users.sex.unique()), int(math.sqrt(len(users.sex.unique())))\n",
    "        )\n",
    "        self.embeddings_age_group = nn.Embedding(\n",
    "            len(users.age_group.unique()), int(math.sqrt(len(users.age_group.unique())))\n",
    "        )\n",
    "        self.embeddings_user_occupation = nn.Embedding(\n",
    "            len(users.occupation.unique()), int(math.sqrt(len(users.occupation.unique())))\n",
    "        )\n",
    "        self.embeddings_user_zip_code = nn.Embedding(\n",
    "            len(users.zip_code.unique()), int(math.sqrt(len(users.sex.unique())))\n",
    "        )\n",
    "        \n",
    "        ##Movies\n",
    "        self.embeddings_movie_id = nn.Embedding(\n",
    "            int(movies.movie_id.max())+1, int(math.sqrt(movies.movie_id.max()))+1\n",
    "        )\n",
    "        self.embeddings_position  = nn.Embedding(\n",
    "           sequence_length, int(math.sqrt(len(movies.movie_id.unique())))+1\n",
    "        )\n",
    "        ###Movies features embeddings\n",
    "        genre_vectors = movies[genres].to_numpy()\n",
    "        self.embeddings_movie_genre = nn.Embedding(\n",
    "            genre_vectors.shape[0], genre_vectors.shape[1]\n",
    "        )\n",
    "        \n",
    "        self.embeddings_movie_genre.weight.requires_grad = False #Not training genres\n",
    "        \n",
    "        \n",
    "        self.embeddings_movie_year = nn.Embedding(\n",
    "            len(movies.year.unique()), int(math.sqrt(len(movies.year.unique())))\n",
    "        )\n",
    "        \n",
    "        \n",
    "        # Network\n",
    "        self.transfomerlayer = nn.TransformerEncoderLayer(63, 3, dropout=0.2)\n",
    "        self.linear = nn.Sequential(\n",
    "            nn.Linear(\n",
    "                589,\n",
    "                1024,\n",
    "            ),\n",
    "            nn.LeakyReLU(),\n",
    "            nn.Linear(1024, 512),\n",
    "            nn.LeakyReLU(),\n",
    "            nn.Linear(512, 256),\n",
    "            nn.LeakyReLU(),\n",
    "            nn.Linear(256, 1),\n",
    "        )\n",
    "        self.criterion = torch.nn.MSELoss()\n",
    "        self.mae = torchmetrics.MeanAbsoluteError()\n",
    "        self.mse = torchmetrics.MeanSquaredError()\n",
    "        \n",
    "    def encode_input(self,inputs):\n",
    "        user_id, movie_history, target_movie_id,  movie_history_ratings, target_movie_rating, sex, age_group, occupation = inputs\n",
    "        \n",
    "        \n",
    "        #MOVIES\n",
    "        movie_history = self.embeddings_movie_id(movie_history)\n",
    "        target_movie = self.embeddings_movie_id(target_movie_id)\n",
    "        \n",
    "        positions = torch.arange(0,sequence_length-1,1,dtype=int,device=self.device)\n",
    "        positions = self.embeddings_position(positions)\n",
    "        \n",
    "        encoded_sequence_movies_with_poistion_and_rating = (movie_history + positions) #Yet to multiply by rating\n",
    "        \n",
    "        target_movie = torch.unsqueeze(target_movie, 1)\n",
    "        transfomer_features = torch.cat((encoded_sequence_movies_with_poistion_and_rating, target_movie),dim=1)\n",
    "        \n",
    "        #USERS\n",
    "        user_id = self.embeddings_user_id(user_id)\n",
    "        \n",
    "        sex = self.embeddings_user_sex(sex)\n",
    "        age_group = self.embeddings_age_group(age_group)\n",
    "        occupation = self.embeddings_user_occupation(occupation)\n",
    "        user_features = torch.cat((user_id, sex, age_group,occupation), 1)\n",
    "        \n",
    "        return transfomer_features, user_features, target_movie_rating.float()\n",
    "    \n",
    "    def forward(self, batch):\n",
    "        transfomer_features, user_features, target_movie_rating = self.encode_input(batch)\n",
    "        transformer_output = self.transfomerlayer(transfomer_features)\n",
    "        transformer_output = torch.flatten(transformer_output,start_dim=1)\n",
    "        \n",
    "        #Concat with other features\n",
    "        features = torch.cat((transformer_output,user_features),dim=1)\n",
    "        \n",
    "        output = self.linear(features)\n",
    "        return output, target_movie_rating\n",
    "        \n",
    "    def training_step(self, batch, batch_idx):\n",
    "        out, target_movie_rating = self(batch)\n",
    "        out = out.flatten()\n",
    "        loss = self.criterion(out, target_movie_rating)\n",
    "        \n",
    "        mae = self.mae(out, target_movie_rating)\n",
    "        mse = self.mse(out, target_movie_rating)\n",
    "        rmse =torch.sqrt(mse)\n",
    "        self.log(\n",
    "            \"train/mae\", mae, on_step=True, on_epoch=False, prog_bar=False\n",
    "        )\n",
    "        \n",
    "        self.log(\n",
    "            \"train/rmse\", rmse, on_step=True, on_epoch=False, prog_bar=False\n",
    "        )\n",
    "        \n",
    "        self.log(\"train/step_loss\", loss, on_step=True, on_epoch=False, prog_bar=False)\n",
    "        return loss\n",
    "    \n",
    "    def validation_step(self, batch, batch_idx):\n",
    "        out, target_movie_rating = self(batch)\n",
    "        out = out.flatten()\n",
    "        loss = self.criterion(out, target_movie_rating)\n",
    "        \n",
    "        mae = self.mae(out, target_movie_rating)\n",
    "        mse = self.mse(out, target_movie_rating)\n",
    "        rmse =torch.sqrt(mse)\n",
    "        self.log_dict({\"val_loss\": loss, \"mae\": mae.detach(), \"rmse\":rmse.detach()})\n",
    "        \n",
    "        return {\"val_loss\": loss, \"mae\": mae.detach(), \"rmse\":rmse.detach()}\n",
    "\n",
    "    def validation_epoch_end(self, outputs):\n",
    "        avg_loss = torch.stack([x[\"val_loss\"] for x in outputs]).mean()\n",
    "        avg_mae = torch.stack([x[\"mae\"] for x in outputs]).mean()\n",
    "        avg_rmse = torch.stack([x[\"rmse\"] for x in outputs]).mean()\n",
    "        \n",
    "        self.log(\"val/loss\", avg_loss, on_step=False, on_epoch=True, prog_bar=False)\n",
    "        self.log(\"val/mae\", avg_mae, on_step=False, on_epoch=True, prog_bar=False)\n",
    "        self.log(\"val/rmse\", avg_rmse, on_step=False, on_epoch=True, prog_bar=False)\n",
    "\n",
    "    def test_step(self, batch, batch_idx):\n",
    "        # TODO: out, target_movie_rating 어떤 shape 가지는지 이거를 testepochend로 넘기면 문제가 해결될까? \n",
    "        out, target_movie_rating = self(batch)\n",
    "        out = out.flatten()\n",
    "        loss = self.criterion(out, target_movie_rating)\n",
    "        \n",
    "        mae = self.mae(out, target_movie_rating)\n",
    "        mse = self.mse(out, target_movie_rating)\n",
    "        rmse =torch.sqrt(mse)\n",
    "        self.log_dict({\"test_loss\": loss, \"mae\": mae.detach(), \"rmse\":rmse.detach()})\n",
    "        return {\"test_loss\": loss, \"mae\": mae.detach(), \"rmse\":rmse.detach()}\n",
    "        # dictt = {}\n",
    "        # dictt['out'] = out\n",
    "        # dictt['target_movie_rating'] = target_movie_rating\n",
    "        # return dictt\n",
    "\n",
    "# TODO: 여기로 넘어가는 outputs가 무엇인지?\n",
    "    def test_epoch_end(self, outputs):\n",
    "        users = torch.cat([x[\"users\"] for x in outputs])\n",
    "        y_hat = torch.cat([x[\"top14\"] for x in outputs])\n",
    "        users = users.tolist()\n",
    "        y_hat = y_hat.tolist()\n",
    "        \n",
    "        data = {\"users\": users, \"top14\": y_hat}\n",
    "        df = pd.DataFrame.from_dict(data)\n",
    "        print(len(df))\n",
    "        df.to_csv(\"lightning_logs/predict.csv\", index=False)\n",
    "        # print('hi')\n",
    "        # return outputs\n",
    "\n",
    "    def configure_optimizers(self):\n",
    "        return torch.optim.AdamW(self.parameters(), lr=0.0005)\n",
    "\n",
    "    @staticmethod\n",
    "    def add_model_specific_args(parent_parser):\n",
    "        parser = ArgumentParser(parents=[parent_parser], add_help=False)\n",
    "        parser.add_argument(\"--learning_rate\", type=float, default=0.01)\n",
    "        return parser\n",
    "\n",
    "    ####################\n",
    "    # DATA RELATED HOOKS\n",
    "    ####################\n",
    "    def setup(self, stage=None):\n",
    "        print(\"Loading datasets\")\n",
    "        # TODO: size 줄인 train_csv\n",
    "        self.train_dataset = MovieDataset(\"/opt/ml/BST/data/train_data copy.csv\")\n",
    "        self.val_dataset = MovieDataset(\"data/test_data.csv\")\n",
    "        self.test_dataset = MovieDataset(\"data/test_data.csv\")\n",
    "        print(\"Done\")\n",
    "\n",
    "    def train_dataloader(self):\n",
    "        return torch.utils.data.DataLoader(\n",
    "            self.train_dataset,\n",
    "            batch_size=128,\n",
    "            shuffle=False,\n",
    "            num_workers=os.cpu_count(),\n",
    "        )\n",
    "\n",
    "    def val_dataloader(self):\n",
    "        return torch.utils.data.DataLoader(\n",
    "            self.val_dataset,\n",
    "            batch_size=128,\n",
    "            shuffle=False,\n",
    "            num_workers=os.cpu_count(),\n",
    "        )\n",
    "\n",
    "    def test_dataloader(self):\n",
    "        return torch.utils.data.DataLoader(\n",
    "            self.test_dataset,\n",
    "            batch_size=128,\n",
    "            shuffle=False,\n",
    "            num_workers=os.cpu_count(),\n",
    "        )\n",
    "        \n"
   ]
  },
  {
   "cell_type": "code",
   "execution_count": null,
   "id": "19e4fd64",
   "metadata": {},
   "outputs": [],
   "source": [
    "pl.seed_everything(args.seed)\n"
   ]
  },
  {
   "cell_type": "code",
   "execution_count": 8,
   "id": "2491dfaf",
   "metadata": {},
   "outputs": [
    {
     "name": "stderr",
     "output_type": "stream",
     "text": [
      "GPU available: False, used: False\n",
      "TPU available: False, using: 0 TPU cores\n",
      "IPU available: False, using: 0 IPUs\n"
     ]
    },
    {
     "name": "stdout",
     "output_type": "stream",
     "text": [
      "Loading datasets\n"
     ]
    },
    {
     "name": "stderr",
     "output_type": "stream",
     "text": [
      "\n",
      "   | Name                       | Type                    | Params\n",
      "------------------------------------------------------------------------\n",
      "0  | embeddings_user_id         | Embedding               | 471 K \n",
      "1  | embeddings_user_sex        | Embedding               | 2     \n",
      "2  | embeddings_age_group       | Embedding               | 14    \n",
      "3  | embeddings_user_occupation | Embedding               | 84    \n",
      "4  | embeddings_user_zip_code   | Embedding               | 3.4 K \n",
      "5  | embeddings_movie_id        | Embedding               | 249 K \n",
      "6  | embeddings_position        | Embedding               | 504   \n",
      "7  | embeddings_movie_genre     | Embedding               | 69.9 K\n",
      "8  | embeddings_movie_year      | Embedding               | 729   \n",
      "9  | transfomerlayer            | TransformerEncoderLayer | 276 K \n",
      "10 | linear                     | Sequential              | 1.3 M \n",
      "11 | criterion                  | MSELoss                 | 0     \n",
      "12 | mae                        | MeanAbsoluteError       | 0     \n",
      "13 | mse                        | MeanSquaredError        | 0     \n",
      "------------------------------------------------------------------------\n",
      "2.3 M     Trainable params\n",
      "69.9 K    Non-trainable params\n",
      "2.3 M     Total params\n",
      "9.328     Total estimated model params size (MB)\n"
     ]
    },
    {
     "name": "stdout",
     "output_type": "stream",
     "text": [
      "Done\n",
      "                                                                      "
     ]
    },
    {
     "name": "stderr",
     "output_type": "stream",
     "text": [
      "/opt/conda/lib/python3.8/site-packages/pytorch_lightning/trainer/data_loading.py:432: UserWarning: The number of training samples (10) is smaller than the logging interval Trainer(log_every_n_steps=50). Set a lower value for log_every_n_steps if you want to see logs for the training epoch.\n",
      "  rank_zero_warn(\n"
     ]
    },
    {
     "name": "stdout",
     "output_type": "stream",
     "text": [
      "Epoch 0: 100%|██████████| 1136/1136 [00:46<00:00, 24.59it/s, loss=6.08, v_num=18]\n"
     ]
    }
   ],
   "source": [
    "model = BST()\n",
    "# TODO: gpus 1이면 오류남\n",
    "trainer = pl.Trainer(gpus=0,max_epochs=1)\n",
    "trainer.fit(model)\n",
    "# torch.save(\"/opt/ml/BST/samplemodel\",model)\n"
   ]
  },
  {
   "cell_type": "code",
   "execution_count": 9,
   "id": "alone-silly",
   "metadata": {
    "id": "quick-router"
   },
   "outputs": [
    {
     "name": "stderr",
     "output_type": "stream",
     "text": [
      "/opt/conda/lib/python3.8/site-packages/pytorch_lightning/trainer/trainer.py:1398: UserWarning: `.test(ckpt_path=None)` was called without a model. The best model of the previous `fit` call will be used. You can pass `test(ckpt_path='best')` to use and best model checkpoint and avoid this warning or `ckpt_path=trainer.checkpoint_callback.last_model_path` to use the last model.\n",
      "  rank_zero_warn(\n"
     ]
    },
    {
     "name": "stdout",
     "output_type": "stream",
     "text": [
      "Loading datasets\n"
     ]
    },
    {
     "name": "stderr",
     "output_type": "stream",
     "text": [
      "Restoring states from the checkpoint path at /opt/ml/BST/lightning_logs/version_18/checkpoints/epoch=0-step=9.ckpt\n",
      "Loaded model weights from checkpoint at /opt/ml/BST/lightning_logs/version_18/checkpoints/epoch=0-step=9.ckpt\n"
     ]
    },
    {
     "name": "stdout",
     "output_type": "stream",
     "text": [
      "Done\n",
      "Testing: 100%|█████████▉| 1124/1126 [00:43<00:00, 50.73it/s]--------------------------------------------------------------------------------\n",
      "DATALOADER:0 TEST RESULTS\n",
      "{'mae': 1.4727592468261719,\n",
      " 'rmse': 1.6709264516830444,\n",
      " 'test_loss': 2.8259942531585693}\n",
      "--------------------------------------------------------------------------------\n",
      "Testing: 100%|██████████| 1126/1126 [00:43<00:00, 26.01it/s]\n"
     ]
    }
   ],
   "source": [
    "# trainer = pl.Trainer(gpus=0,max_epochs=1)\n",
    "\n",
    "# trainer.test(model)\n",
    "# loaded_model = BST.load_from_checkpoint('/opt/ml/BST/lightning_logs/version_4/checkpoints/epoch=0-step=6405.ckpt')\n",
    "# trainer.test(loaded_model)\n",
    "oooo=trainer.test()\n",
    "\n"
   ]
  },
  {
   "cell_type": "code",
   "execution_count": 47,
   "id": "0978456d",
   "metadata": {},
   "outputs": [
    {
     "data": {
      "text/plain": [
       "[{'test_loss': 2.0338521003723145,\n",
       "  'mae': 1.2207138538360596,\n",
       "  'rmse': 1.4179977178573608}]"
      ]
     },
     "execution_count": 47,
     "metadata": {},
     "output_type": "execute_result"
    }
   ],
   "source": [
    "oooo"
   ]
  },
  {
   "cell_type": "code",
   "execution_count": 28,
   "id": "6ac89e19",
   "metadata": {},
   "outputs": [
    {
     "ename": "TypeError",
     "evalue": "forward() takes 2 positional arguments but 9 were given",
     "output_type": "error",
     "traceback": [
      "\u001b[0;31m---------------------------------------------------------------------------\u001b[0m",
      "\u001b[0;31mTypeError\u001b[0m                                 Traceback (most recent call last)",
      "Input \u001b[0;32mIn [28]\u001b[0m, in \u001b[0;36m<cell line: 2>\u001b[0;34m()\u001b[0m\n\u001b[1;32m      1\u001b[0m model\u001b[38;5;241m.\u001b[39meval()\n\u001b[0;32m----> 2\u001b[0m t_output \u001b[38;5;241m=\u001b[39m \u001b[43mmodel\u001b[49m\u001b[43m(\u001b[49m\u001b[43mtuser_id\u001b[49m\u001b[43m,\u001b[49m\u001b[43m \u001b[49m\u001b[43mtmovie_history\u001b[49m\u001b[43m,\u001b[49m\u001b[43m \u001b[49m\u001b[43mttarget_movie_id\u001b[49m\u001b[43m,\u001b[49m\u001b[43m  \u001b[49m\u001b[43mtmovie_history_ratings\u001b[49m\u001b[43m,\u001b[49m\u001b[43m \u001b[49m\u001b[43mttarget_movie_rating\u001b[49m\u001b[43m,\u001b[49m\u001b[43m \u001b[49m\u001b[43mtsex\u001b[49m\u001b[43m,\u001b[49m\u001b[43m \u001b[49m\u001b[43mtage_group\u001b[49m\u001b[43m,\u001b[49m\u001b[43m \u001b[49m\u001b[43mtoccupation\u001b[49m\u001b[43m)\u001b[49m\n",
      "File \u001b[0;32m/opt/conda/lib/python3.8/site-packages/torch/nn/modules/module.py:727\u001b[0m, in \u001b[0;36mModule._call_impl\u001b[0;34m(self, *input, **kwargs)\u001b[0m\n\u001b[1;32m    725\u001b[0m     result \u001b[38;5;241m=\u001b[39m \u001b[38;5;28mself\u001b[39m\u001b[38;5;241m.\u001b[39m_slow_forward(\u001b[38;5;241m*\u001b[39m\u001b[38;5;28minput\u001b[39m, \u001b[38;5;241m*\u001b[39m\u001b[38;5;241m*\u001b[39mkwargs)\n\u001b[1;32m    726\u001b[0m \u001b[38;5;28;01melse\u001b[39;00m:\n\u001b[0;32m--> 727\u001b[0m     result \u001b[38;5;241m=\u001b[39m \u001b[38;5;28;43mself\u001b[39;49m\u001b[38;5;241;43m.\u001b[39;49m\u001b[43mforward\u001b[49m\u001b[43m(\u001b[49m\u001b[38;5;241;43m*\u001b[39;49m\u001b[38;5;28;43minput\u001b[39;49m\u001b[43m,\u001b[49m\u001b[43m \u001b[49m\u001b[38;5;241;43m*\u001b[39;49m\u001b[38;5;241;43m*\u001b[39;49m\u001b[43mkwargs\u001b[49m\u001b[43m)\u001b[49m\n\u001b[1;32m    728\u001b[0m \u001b[38;5;28;01mfor\u001b[39;00m hook \u001b[38;5;129;01min\u001b[39;00m itertools\u001b[38;5;241m.\u001b[39mchain(\n\u001b[1;32m    729\u001b[0m         _global_forward_hooks\u001b[38;5;241m.\u001b[39mvalues(),\n\u001b[1;32m    730\u001b[0m         \u001b[38;5;28mself\u001b[39m\u001b[38;5;241m.\u001b[39m_forward_hooks\u001b[38;5;241m.\u001b[39mvalues()):\n\u001b[1;32m    731\u001b[0m     hook_result \u001b[38;5;241m=\u001b[39m hook(\u001b[38;5;28mself\u001b[39m, \u001b[38;5;28minput\u001b[39m, result)\n",
      "\u001b[0;31mTypeError\u001b[0m: forward() takes 2 positional arguments but 9 were given"
     ]
    }
   ],
   "source": [
    "model.eval()\n",
    "t_output = model(tuser_id, tmovie_history, ttarget_movie_id,  tmovie_history_ratings, ttarget_movie_rating, tsex, tage_group, toccupation)"
   ]
  },
  {
   "cell_type": "code",
   "execution_count": null,
   "id": "37911e6f",
   "metadata": {},
   "outputs": [],
   "source": []
  }
 ],
 "metadata": {
  "colab": {
   "name": "pytorch-bst.ipynb",
   "provenance": []
  },
  "interpreter": {
   "hash": "d4d1e4263499bec80672ea0156c357c1ee493ec2b1c70f0acce89fc37c4a6abe"
  },
  "kernelspec": {
   "display_name": "CUDAtorch",
   "language": "python",
   "name": "python3"
  },
  "language_info": {
   "codemirror_mode": {
    "name": "ipython",
    "version": 3
   },
   "file_extension": ".py",
   "mimetype": "text/x-python",
   "name": "python",
   "nbconvert_exporter": "python",
   "pygments_lexer": "ipython3",
   "version": "3.8.5"
  }
 },
 "nbformat": 4,
 "nbformat_minor": 5
}
