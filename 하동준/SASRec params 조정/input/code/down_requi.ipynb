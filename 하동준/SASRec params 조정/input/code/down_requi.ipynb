{
 "cells": [
  {
   "cell_type": "code",
   "execution_count": 5,
   "metadata": {},
   "outputs": [
    {
     "name": "stdout",
     "output_type": "stream",
     "text": [
      "Requirement already satisfied: numpy==1.22.2 in /opt/conda/lib/python3.8/site-packages (from -r requirements.txt (line 1)) (1.22.2)\n",
      "Requirement already satisfied: pandas==1.4.1 in /opt/conda/lib/python3.8/site-packages (from -r requirements.txt (line 2)) (1.4.1)\n",
      "Requirement already satisfied: python-dateutil==2.8.2 in /opt/conda/lib/python3.8/site-packages (from -r requirements.txt (line 3)) (2.8.2)\n",
      "Requirement already satisfied: pytz==2021.3 in /opt/conda/lib/python3.8/site-packages (from -r requirements.txt (line 4)) (2021.3)\n",
      "Requirement already satisfied: scipy==1.8.0 in /opt/conda/lib/python3.8/site-packages (from -r requirements.txt (line 5)) (1.8.0)\n",
      "Requirement already satisfied: six==1.16.0 in /opt/conda/lib/python3.8/site-packages (from -r requirements.txt (line 6)) (1.16.0)\n",
      "Requirement already satisfied: torch==1.10.2 in /opt/conda/lib/python3.8/site-packages (from -r requirements.txt (line 7)) (1.10.2)\n",
      "Requirement already satisfied: tqdm==4.62.3 in /opt/conda/lib/python3.8/site-packages (from -r requirements.txt (line 8)) (4.62.3)\n",
      "Requirement already satisfied: typing_extensions==4.1.1 in /opt/conda/lib/python3.8/site-packages (from -r requirements.txt (line 9)) (4.1.1)\n"
     ]
    }
   ],
   "source": [
    "!pip install -r requirements.txt"
   ]
  },
  {
   "cell_type": "code",
   "execution_count": null,
   "metadata": {},
   "outputs": [],
   "source": []
  }
 ],
 "metadata": {
  "interpreter": {
   "hash": "d4d1e4263499bec80672ea0156c357c1ee493ec2b1c70f0acce89fc37c4a6abe"
  },
  "kernelspec": {
   "display_name": "Python 3.8.5 ('base')",
   "language": "python",
   "name": "python3"
  },
  "language_info": {
   "codemirror_mode": {
    "name": "ipython",
    "version": 3
   },
   "file_extension": ".py",
   "mimetype": "text/x-python",
   "name": "python",
   "nbconvert_exporter": "python",
   "pygments_lexer": "ipython3",
   "version": "3.8.5"
  },
  "orig_nbformat": 4
 },
 "nbformat": 4,
 "nbformat_minor": 2
}
