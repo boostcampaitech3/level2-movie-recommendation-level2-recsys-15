{
 "cells": [
  {
   "cell_type": "code",
   "execution_count": 10,
   "metadata": {},
   "outputs": [
    {
     "name": "stdout",
     "output_type": "stream",
     "text": [
      "[8, 13, 9]\n"
     ]
    }
   ],
   "source": [
    "import pandas as pd\n",
    "\n",
    "genres_df = pd.read_csv(\"/opt/ml/input/data/train/genres.tsv\", sep=\"\\t\")\n",
    "array, index = pd.factorize(genres_df[\"genre\"])\n",
    "genres_df[\"genre\"] = array\n",
    "# 숫자로 변환\n",
    "lines = genres_df.groupby(\"item\")[\"genre\"].apply(list).to_json(\n",
    "    \"/opt/ml/level2-movie-recommendation-level2-recsys-15/하동준/SASRec params 조정/Ml_item2attributes.json\"\n",
    ")\n",
    "# 아이템:[장르넘버1,장르넘버2...]\n",
    "# preprocessing -> json 만들기"
   ]
  },
  {
   "cell_type": "code",
   "execution_count": 16,
   "metadata": {},
   "outputs": [],
   "source": [
    "rating_df = pd.read_csv(\"/opt/ml/input/data/train/train_ratings.csv\")\n",
    "lines = rating_df.groupby(\"user\")[\"item\"].apply(list)\n",
    "# 유저1: [영화1,영화2,...]\n",
    "user_seq = []\n",
    "item_set = set()\n",
    "\n",
    "# a = [1,2,3,4]\n",
    "# b = [3,4,5,6]\n",
    "# user_seq.extend(a)\n",
    "# print(user_seq.extend(a))\n",
    "# c = set()\n",
    "# c = c|set(a)\n",
    "# print(c)\n",
    "# c = c|set(b)\n",
    "# print(c)\n",
    "# max(c)\n",
    "\n",
    "items = lines[11]\n",
    "\n",
    "# item_set = item_set | set(items)\n",
    "# items = lines[14]\n",
    "# item_set = item_set | set(items)\n",
    "\n",
    "# print(item_set)\n",
    "# for line in lines:\n",
    "#     # [영화1, 영화3,...]\n",
    "#     items = line\n",
    "#     user_seq.append(items)\n",
    "#     # [[영화1,영화3],[영화2,영화5,영화7],...]\n",
    "#     item_set = item_set | set(items)\n",
    "# max_item = max(item_set)\n",
    "\n",
    "# num_users = len(lines)\n",
    "# num_items = max_item + 2"
   ]
  },
  {
   "cell_type": "code",
   "execution_count": 22,
   "metadata": {},
   "outputs": [
    {
     "name": "stdout",
     "output_type": "stream",
     "text": [
      "1 [8, 12, 13, 5, 9]\n",
      "2 [8, 13, 9]\n",
      "3 [5, 6]\n",
      "17\n"
     ]
    }
   ],
   "source": [
    "import json\n",
    "\n",
    "item2attribute = json.loads(open(\"/opt/ml/level2-movie-recommendation-level2-recsys-15/하동준/SASRec params 조정/Ml_item2attributes.json\").readline())\n",
    "attribute_set = set()\n",
    "i=0\n",
    "for item, attributes in item2attribute.items():\n",
    "    if(i<=2):\n",
    "        print(item, attributes)\n",
    "        # attribute_set = attribute_set | set(attributes)\n",
    "\n",
    "    i+=1\n",
    "    attribute_set = attribute_set | set(attributes)\n",
    "attribute_size = max(attribute_set)\n",
    "\n",
    "print(attribute_size)\n",
    "# return item2attribute, attribute_size"
   ]
  },
  {
   "cell_type": "code",
   "execution_count": null,
   "metadata": {},
   "outputs": [],
   "source": [
    "\n",
    "train_dataset = SASRecDataset(args, user_seq, data_type=\"train\")\n"
   ]
  }
 ],
 "metadata": {
  "interpreter": {
   "hash": "d4d1e4263499bec80672ea0156c357c1ee493ec2b1c70f0acce89fc37c4a6abe"
  },
  "kernelspec": {
   "display_name": "Python 3.8.5 ('base')",
   "language": "python",
   "name": "python3"
  },
  "language_info": {
   "codemirror_mode": {
    "name": "ipython",
    "version": 3
   },
   "file_extension": ".py",
   "mimetype": "text/x-python",
   "name": "python",
   "nbconvert_exporter": "python",
   "pygments_lexer": "ipython3",
   "version": "3.8.5"
  },
  "orig_nbformat": 4
 },
 "nbformat": 4,
 "nbformat_minor": 2
}
