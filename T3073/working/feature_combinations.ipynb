{
 "cells": [
  {
   "cell_type": "code",
   "execution_count": 2,
   "metadata": {},
   "outputs": [],
   "source": [
    "from itertools import combinations"
   ]
  },
  {
   "cell_type": "code",
   "execution_count": 3,
   "metadata": {},
   "outputs": [],
   "source": [
    "features = ['user', 'item', 'timestamp', 'title', 'genre', 'director','writer','year']"
   ]
  },
  {
   "cell_type": "code",
   "execution_count": 4,
   "metadata": {},
   "outputs": [],
   "source": [
    "def feature_combinations(features,k):\n",
    "    for array in combinations(features,k):\n",
    "        print(array)"
   ]
  },
  {
   "cell_type": "markdown",
   "metadata": {},
   "source": [
    "## 2개씩 고려해볼때 생각해볼 수 있는 것\n",
    "\n",
    "* ('user', 'item'): 유저가 영화를 봤다 => x\n",
    "* ('user', 'genre') -> 유저가 어떤 장르를 봤다 => o\n",
    "* ('user', 'director') -> 유저가 어떤 감독의 영화를 봤다 => o (어떤 감독의 영화를 좋아하는 지?)\n",
    "* ('user', 'writer') -> 유저가 어떤 작가의 영화를 봤다 => o (어떤 작가가 쓴 영화를 좋아하는 지?)\n",
    "* ('user', 'year') -> 유저가 몇 년도에 영화를 봤다 => o (유저가 몇년도 영화를 즐겨봤는지? => 그 연도 이후나 전에는 영화를 보지 않았거나 할 수 있기 때문에 유저에게 몇 년도 영화가 잘 어울리는지 체크)\n",
    "* ('item', 'genre') -> 영화에 해당하는 장르 => o => 전처리\n",
    "* ('item', 'director') -> 영화에 해당하는 감독 => o => 전처리\n",
    "* ('item', 'writer') -> 영화에 해당하는 작가 => o => 전처리\n",
    "* ('item', 'year') -> 영화 개봉연도 => o => 전처리\n",
    "* ('genre', 'director') -> 감독이 어떤 장르의 영화를 찍었는지 => o\n",
    "* ('genre', 'writer') -> 작가가 어떤 장르의 영화를 썼는지 => o\n",
    "* ('director', 'writer') -> 감독이 어떤 작가와 일했는지 => o\n",
    "* ('director', 'year') -> 감독이 몇년도에 작품을 냈는지 => o => 유저가 몇년도 영화를 좋아하는 지와 연관이 되어있을 것 같다.\n",
    "* ('writer', 'year') -> 작가가 몇년도에 작품을 썼는지 => o => 유저가 몇년도 영화를 좋아하는 지와 연관이 되어있을 것 같다."
   ]
  },
  {
   "cell_type": "code",
   "execution_count": 4,
   "metadata": {},
   "outputs": [
    {
     "name": "stdout",
     "output_type": "stream",
     "text": [
      "('user', 'item')\n",
      "('user', 'timestamp')\n",
      "('user', 'title')\n",
      "('user', 'genre')\n",
      "('user', 'director')\n",
      "('user', 'writer')\n",
      "('user', 'year')\n",
      "('item', 'timestamp')\n",
      "('item', 'title')\n",
      "('item', 'genre')\n",
      "('item', 'director')\n",
      "('item', 'writer')\n",
      "('item', 'year')\n",
      "('timestamp', 'title')\n",
      "('timestamp', 'genre')\n",
      "('timestamp', 'director')\n",
      "('timestamp', 'writer')\n",
      "('timestamp', 'year')\n",
      "('title', 'genre')\n",
      "('title', 'director')\n",
      "('title', 'writer')\n",
      "('title', 'year')\n",
      "('genre', 'director')\n",
      "('genre', 'writer')\n",
      "('genre', 'year')\n",
      "('director', 'writer')\n",
      "('director', 'year')\n",
      "('writer', 'year')\n"
     ]
    }
   ],
   "source": [
    "feature_combinations(features,2)"
   ]
  },
  {
   "cell_type": "markdown",
   "metadata": {},
   "source": [
    "## 3개씩 고려해볼 때 생각해볼 수 있는 것\n",
    "\n",
    "* ('user', 'item', 'genre'): 유저가 어떤 영화를 보고 어떤 장르를 봤는지\n",
    "* ('user', 'item', 'director'): 유저가 어떤 영화를 보고 그 영화의 감독은 누구였는지\n",
    "* ('user', 'item', 'writer'): 유저가 어떤 영화를 보고 그 영화의 작가는 누구였는지\n",
    "* ('user', 'item', 'year'): 유저가 어떤 영화를 보고 출시 연도가 어떻게 되는지\n",
    "* ('user', 'timestamp', 'year'): 영화 시청연도와 연도가 어떤 관련이 있는지\n",
    "* ('user', 'genre', 'director'): 유저가 어떤 장르를 봤고 어떤 감독의 영화를 봤는지\n",
    "* ('user', 'genre', 'writer'): 유저가 어떤 장르를 봤고 어떤 작가의 영화를 봤는지\n",
    "* ('user', 'genre', 'year'): 유저가 몇 년도에 출시한 영화를 봤는지\n",
    "* ('user', 'director', 'writer'): 유저가 어떤 감독과 작가의 영화를 봤는지\n",
    "* ('user', 'director', 'year'): 해당연도에 많이 출시한 감독의 작품을 볼까?\n",
    "* ('user', 'writer', 'year'): 유저가 어떤 작가가 몇 년도에 출시한 영화를 봤는지"
   ]
  },
  {
   "cell_type": "code",
   "execution_count": 6,
   "metadata": {},
   "outputs": [
    {
     "name": "stdout",
     "output_type": "stream",
     "text": [
      "('user', 'item', 'timestamp')\n",
      "('user', 'item', 'title')\n",
      "('user', 'item', 'genre')\n",
      "('user', 'item', 'director')\n",
      "('user', 'item', 'writer')\n",
      "('user', 'item', 'year')\n",
      "('user', 'timestamp', 'title')\n",
      "('user', 'timestamp', 'genre')\n",
      "('user', 'timestamp', 'director')\n",
      "('user', 'timestamp', 'writer')\n",
      "('user', 'timestamp', 'year')\n",
      "('user', 'title', 'genre')\n",
      "('user', 'title', 'director')\n",
      "('user', 'title', 'writer')\n",
      "('user', 'title', 'year')\n",
      "('user', 'genre', 'director')\n",
      "('user', 'genre', 'writer')\n",
      "('user', 'genre', 'year')\n",
      "('user', 'director', 'writer')\n",
      "('user', 'director', 'year')\n",
      "('user', 'writer', 'year')\n",
      "('item', 'timestamp', 'title')\n",
      "('item', 'timestamp', 'genre')\n",
      "('item', 'timestamp', 'director')\n",
      "('item', 'timestamp', 'writer')\n",
      "('item', 'timestamp', 'year')\n",
      "('item', 'title', 'genre')\n",
      "('item', 'title', 'director')\n",
      "('item', 'title', 'writer')\n",
      "('item', 'title', 'year')\n",
      "('item', 'genre', 'director')\n",
      "('item', 'genre', 'writer')\n",
      "('item', 'genre', 'year')\n",
      "('item', 'director', 'writer')\n",
      "('item', 'director', 'year')\n",
      "('item', 'writer', 'year')\n",
      "('timestamp', 'title', 'genre')\n",
      "('timestamp', 'title', 'director')\n",
      "('timestamp', 'title', 'writer')\n",
      "('timestamp', 'title', 'year')\n",
      "('timestamp', 'genre', 'director')\n",
      "('timestamp', 'genre', 'writer')\n",
      "('timestamp', 'genre', 'year')\n",
      "('timestamp', 'director', 'writer')\n",
      "('timestamp', 'director', 'year')\n",
      "('timestamp', 'writer', 'year')\n",
      "('title', 'genre', 'director')\n",
      "('title', 'genre', 'writer')\n",
      "('title', 'genre', 'year')\n",
      "('title', 'director', 'writer')\n",
      "('title', 'director', 'year')\n",
      "('title', 'writer', 'year')\n",
      "('genre', 'director', 'writer')\n",
      "('genre', 'director', 'year')\n",
      "('genre', 'writer', 'year')\n",
      "('director', 'writer', 'year')\n"
     ]
    }
   ],
   "source": [
    "feature_combinations(features, 3)"
   ]
  },
  {
   "cell_type": "markdown",
   "metadata": {},
   "source": [
    "## 4개씩 고려해볼때 생각해볼 수 있는 것\n",
    "\n",
    "유저, 유저가 본 영화, 나머지 특징끼리의 연관성\n",
    "* ('user', 'item', 'timestamp', 'genre'): 유저가 어떤 장르의 영화를 실제 언제 봤는지\n",
    "* ('user', 'item', 'timestamp', 'director'): 유저가 어떤 감독의 영화를 실제 언제 봤는지\n",
    "* ('user', 'item', 'timestamp', 'writer'): 유저가 어떤 작가의 영화를 실제 언제 봤는지\n",
    "* ('user', 'item', 'timestamp', 'year'): 유저가 몇 년도의 출시한 영화를 실제 언제 봤는지\n",
    "* ('user', 'item', 'genre', 'director'): 유저가 본 영화와 장르, 감독 사이의 연관성\n",
    "* ('user', 'item', 'genre', 'writer'): 유저가 본 영화와 장르, 작가 사이의 연관성\n",
    "* ('user', 'item', 'genre', 'year'): 유저가 영화, 장르, 출시연도 사이의 연관성\n",
    "* ('user', 'item', 'director', 'writer'): 유저가 본 영화, 감독, 작가 사이의 연관성\n",
    "* ('user', 'item', 'director', 'year'): 유저가 본 영화, 감독, 출시연도 사이의 연관성\n",
    "* ('user', 'item', 'writer', 'year'): 유저가 본 영화, 작가, 출시연도 사이의 연관성\n",
    "\n",
    "유저, 나머지 특징끼리의 연관성\n",
    "* ('user', 'genre', 'director', 'writer'): 유저가 본 장르, 감독, 작가 사이의 연관성\n",
    "* ('user', 'genre', 'director', 'year'): 유저가 본 장르, 감독, 출시 연도 사이의 연관성\n",
    "* ('user', 'genre', 'writer', 'year'): 유저가 본 장르, 작가, 연도 사이의 연관성\n",
    "* ('user', 'director', 'writer', 'year'): 유저가 본 감독, 작가, 연도 사이의 연관성"
   ]
  },
  {
   "cell_type": "code",
   "execution_count": 7,
   "metadata": {},
   "outputs": [
    {
     "name": "stdout",
     "output_type": "stream",
     "text": [
      "('user', 'item', 'timestamp', 'title')\n",
      "('user', 'item', 'timestamp', 'genre')\n",
      "('user', 'item', 'timestamp', 'director')\n",
      "('user', 'item', 'timestamp', 'writer')\n",
      "('user', 'item', 'timestamp', 'year')\n",
      "('user', 'item', 'title', 'genre')\n",
      "('user', 'item', 'title', 'director')\n",
      "('user', 'item', 'title', 'writer')\n",
      "('user', 'item', 'title', 'year')\n",
      "('user', 'item', 'genre', 'director')\n",
      "('user', 'item', 'genre', 'writer')\n",
      "('user', 'item', 'genre', 'year')\n",
      "('user', 'item', 'director', 'writer')\n",
      "('user', 'item', 'director', 'year')\n",
      "('user', 'item', 'writer', 'year')\n",
      "('user', 'timestamp', 'title', 'genre')\n",
      "('user', 'timestamp', 'title', 'director')\n",
      "('user', 'timestamp', 'title', 'writer')\n",
      "('user', 'timestamp', 'title', 'year')\n",
      "('user', 'timestamp', 'genre', 'director')\n",
      "('user', 'timestamp', 'genre', 'writer')\n",
      "('user', 'timestamp', 'genre', 'year')\n",
      "('user', 'timestamp', 'director', 'writer')\n",
      "('user', 'timestamp', 'director', 'year')\n",
      "('user', 'timestamp', 'writer', 'year')\n",
      "('user', 'title', 'genre', 'director')\n",
      "('user', 'title', 'genre', 'writer')\n",
      "('user', 'title', 'genre', 'year')\n",
      "('user', 'title', 'director', 'writer')\n",
      "('user', 'title', 'director', 'year')\n",
      "('user', 'title', 'writer', 'year')\n",
      "('user', 'genre', 'director', 'writer')\n",
      "('user', 'genre', 'director', 'year')\n",
      "('user', 'genre', 'writer', 'year')\n",
      "('user', 'director', 'writer', 'year')\n",
      "('item', 'timestamp', 'title', 'genre')\n",
      "('item', 'timestamp', 'title', 'director')\n",
      "('item', 'timestamp', 'title', 'writer')\n",
      "('item', 'timestamp', 'title', 'year')\n",
      "('item', 'timestamp', 'genre', 'director')\n",
      "('item', 'timestamp', 'genre', 'writer')\n",
      "('item', 'timestamp', 'genre', 'year')\n",
      "('item', 'timestamp', 'director', 'writer')\n",
      "('item', 'timestamp', 'director', 'year')\n",
      "('item', 'timestamp', 'writer', 'year')\n",
      "('item', 'title', 'genre', 'director')\n",
      "('item', 'title', 'genre', 'writer')\n",
      "('item', 'title', 'genre', 'year')\n",
      "('item', 'title', 'director', 'writer')\n",
      "('item', 'title', 'director', 'year')\n",
      "('item', 'title', 'writer', 'year')\n",
      "('item', 'genre', 'director', 'writer')\n",
      "('item', 'genre', 'director', 'year')\n",
      "('item', 'genre', 'writer', 'year')\n",
      "('item', 'director', 'writer', 'year')\n",
      "('timestamp', 'title', 'genre', 'director')\n",
      "('timestamp', 'title', 'genre', 'writer')\n",
      "('timestamp', 'title', 'genre', 'year')\n",
      "('timestamp', 'title', 'director', 'writer')\n",
      "('timestamp', 'title', 'director', 'year')\n",
      "('timestamp', 'title', 'writer', 'year')\n",
      "('timestamp', 'genre', 'director', 'writer')\n",
      "('timestamp', 'genre', 'director', 'year')\n",
      "('timestamp', 'genre', 'writer', 'year')\n",
      "('timestamp', 'director', 'writer', 'year')\n",
      "('title', 'genre', 'director', 'writer')\n",
      "('title', 'genre', 'director', 'year')\n",
      "('title', 'genre', 'writer', 'year')\n",
      "('title', 'director', 'writer', 'year')\n",
      "('genre', 'director', 'writer', 'year')\n"
     ]
    }
   ],
   "source": [
    "feature_combinations(features, 4)"
   ]
  },
  {
   "cell_type": "markdown",
   "metadata": {},
   "source": [
    "## 5개씩 고려해볼때 생각해볼 수 있는 것\n",
    "\n",
    "유저가 본 영화와 나머지 요인들 사이의 연관성\n",
    "* ('user', 'item', 'timestamp', 'genre', 'director')\n",
    "* ('user', 'item', 'timestamp', 'genre', 'writer')\n",
    "* ('user', 'item', 'timestamp', 'genre', 'year')\n",
    "* ('user', 'item', 'timestamp', 'director', 'writer')\n",
    "* ('user', 'item', 'genre', 'director', 'writer')\n",
    "* ('user', 'item', 'genre', 'director', 'year')\n",
    "* ('user', 'item', 'genre', 'writer', 'year')\n",
    "* ('user', 'item', 'director', 'writer', 'year')\n",
    "\n",
    "유저의 개인적인 특성과 관련된 연관성\n",
    "* ('user', 'timestamp', 'genre', 'director', 'writer')\n",
    "* ('user', 'timestamp', 'genre', 'director', 'year')\n",
    "* ('user', 'timestamp', 'genre', 'writer', 'year')\n",
    "* ('user', 'timestamp', 'director', 'writer', 'year')\n",
    "* ('user', 'genre', 'director', 'writer', 'year')"
   ]
  },
  {
   "cell_type": "code",
   "execution_count": 5,
   "metadata": {},
   "outputs": [
    {
     "name": "stdout",
     "output_type": "stream",
     "text": [
      "('user', 'item', 'timestamp', 'title', 'genre')\n",
      "('user', 'item', 'timestamp', 'title', 'director')\n",
      "('user', 'item', 'timestamp', 'title', 'writer')\n",
      "('user', 'item', 'timestamp', 'title', 'year')\n",
      "('user', 'item', 'timestamp', 'genre', 'director')\n",
      "('user', 'item', 'timestamp', 'genre', 'writer')\n",
      "('user', 'item', 'timestamp', 'genre', 'year')\n",
      "('user', 'item', 'timestamp', 'director', 'writer')\n",
      "('user', 'item', 'timestamp', 'director', 'year')\n",
      "('user', 'item', 'timestamp', 'writer', 'year')\n",
      "('user', 'item', 'title', 'genre', 'director')\n",
      "('user', 'item', 'title', 'genre', 'writer')\n",
      "('user', 'item', 'title', 'genre', 'year')\n",
      "('user', 'item', 'title', 'director', 'writer')\n",
      "('user', 'item', 'title', 'director', 'year')\n",
      "('user', 'item', 'title', 'writer', 'year')\n",
      "('user', 'item', 'genre', 'director', 'writer')\n",
      "('user', 'item', 'genre', 'director', 'year')\n",
      "('user', 'item', 'genre', 'writer', 'year')\n",
      "('user', 'item', 'director', 'writer', 'year')\n",
      "('user', 'timestamp', 'title', 'genre', 'director')\n",
      "('user', 'timestamp', 'title', 'genre', 'writer')\n",
      "('user', 'timestamp', 'title', 'genre', 'year')\n",
      "('user', 'timestamp', 'title', 'director', 'writer')\n",
      "('user', 'timestamp', 'title', 'director', 'year')\n",
      "('user', 'timestamp', 'title', 'writer', 'year')\n",
      "('user', 'timestamp', 'genre', 'director', 'writer')\n",
      "('user', 'timestamp', 'genre', 'director', 'year')\n",
      "('user', 'timestamp', 'genre', 'writer', 'year')\n",
      "('user', 'timestamp', 'director', 'writer', 'year')\n",
      "('user', 'title', 'genre', 'director', 'writer')\n",
      "('user', 'title', 'genre', 'director', 'year')\n",
      "('user', 'title', 'genre', 'writer', 'year')\n",
      "('user', 'title', 'director', 'writer', 'year')\n",
      "('user', 'genre', 'director', 'writer', 'year')\n",
      "('item', 'timestamp', 'title', 'genre', 'director')\n",
      "('item', 'timestamp', 'title', 'genre', 'writer')\n",
      "('item', 'timestamp', 'title', 'genre', 'year')\n",
      "('item', 'timestamp', 'title', 'director', 'writer')\n",
      "('item', 'timestamp', 'title', 'director', 'year')\n",
      "('item', 'timestamp', 'title', 'writer', 'year')\n",
      "('item', 'timestamp', 'genre', 'director', 'writer')\n",
      "('item', 'timestamp', 'genre', 'director', 'year')\n",
      "('item', 'timestamp', 'genre', 'writer', 'year')\n",
      "('item', 'timestamp', 'director', 'writer', 'year')\n",
      "('item', 'title', 'genre', 'director', 'writer')\n",
      "('item', 'title', 'genre', 'director', 'year')\n",
      "('item', 'title', 'genre', 'writer', 'year')\n",
      "('item', 'title', 'director', 'writer', 'year')\n",
      "('item', 'genre', 'director', 'writer', 'year')\n",
      "('timestamp', 'title', 'genre', 'director', 'writer')\n",
      "('timestamp', 'title', 'genre', 'director', 'year')\n",
      "('timestamp', 'title', 'genre', 'writer', 'year')\n",
      "('timestamp', 'title', 'director', 'writer', 'year')\n",
      "('timestamp', 'genre', 'director', 'writer', 'year')\n",
      "('title', 'genre', 'director', 'writer', 'year')\n"
     ]
    }
   ],
   "source": [
    "feature_combinations(features, 5)"
   ]
  },
  {
   "cell_type": "code",
   "execution_count": null,
   "metadata": {},
   "outputs": [],
   "source": []
  }
 ],
 "metadata": {
  "interpreter": {
   "hash": "d4d1e4263499bec80672ea0156c357c1ee493ec2b1c70f0acce89fc37c4a6abe"
  },
  "kernelspec": {
   "display_name": "Python 3.8.5 ('base')",
   "language": "python",
   "name": "python3"
  },
  "language_info": {
   "codemirror_mode": {
    "name": "ipython",
    "version": 3
   },
   "file_extension": ".py",
   "mimetype": "text/x-python",
   "name": "python",
   "nbconvert_exporter": "python",
   "pygments_lexer": "ipython3",
   "version": "3.8.5"
  },
  "orig_nbformat": 4
 },
 "nbformat": 4,
 "nbformat_minor": 2
}
