{
 "cells": [
  {
   "cell_type": "code",
   "execution_count": 1,
   "metadata": {},
   "outputs": [
    {
     "name": "stdout",
     "output_type": "stream",
     "text": [
      "System version: 3.8.13 (default, Mar 28 2022, 11:38:47) \n",
      "[GCC 7.5.0]\n",
      "PyTorch version: 1.7.1\n",
      "Cornac version: 1.14.2\n"
     ]
    }
   ],
   "source": [
    "import sys\n",
    "import os\n",
    "import torch\n",
    "import cornac\n",
    "import papermill as pm\n",
    "import scrapbook as sb\n",
    "import pandas as pd\n",
    "from recommenders.datasets import movielens\n",
    "from recommenders.datasets.python_splitters import python_random_split\n",
    "from recommenders.evaluation.python_evaluation import map_at_k, ndcg_at_k, precision_at_k, recall_at_k\n",
    "from recommenders.models.cornac.cornac_utils import predict_ranking\n",
    "from recommenders.utils.timer import Timer\n",
    "from recommenders.utils.constants import SEED\n",
    "\n",
    "print(\"System version: {}\".format(sys.version))\n",
    "print(\"PyTorch version: {}\".format(torch.__version__))\n",
    "print(\"Cornac version: {}\".format(cornac.__version__))"
   ]
  },
  {
   "cell_type": "code",
   "execution_count": 2,
   "metadata": {},
   "outputs": [],
   "source": [
    "# Select MovieLens data size: 100k, 1m, 10m, or 20m\n",
    "MOVIELENS_DATA_SIZE = '100k'\n",
    "\n",
    "# top k items to recommend\n",
    "TOP_K = 10\n",
    "\n",
    "# Model parameters\n",
    "LATENT_DIM = 50\n",
    "ENCODER_DIMS = [100]\n",
    "ACT_FUNC = \"tanh\"\n",
    "LIKELIHOOD = \"pois\"\n",
    "NUM_EPOCHS = 500\n",
    "BATCH_SIZE = 128\n",
    "LEARNING_RATE = 0.001"
   ]
  },
  {
   "cell_type": "code",
   "execution_count": 4,
   "metadata": {},
   "outputs": [],
   "source": [
    "data = pd.read_csv(\"/opt/ml/input/data/train/train_ratings.csv\")"
   ]
  },
  {
   "cell_type": "code",
   "execution_count": 6,
   "metadata": {},
   "outputs": [],
   "source": [
    "data = data[['user', 'item']]"
   ]
  },
  {
   "cell_type": "code",
   "execution_count": 8,
   "metadata": {},
   "outputs": [],
   "source": [
    "data.columns = ['userID', 'itemID']"
   ]
  },
  {
   "cell_type": "code",
   "execution_count": 9,
   "metadata": {},
   "outputs": [
    {
     "data": {
      "text/html": [
       "<div>\n",
       "<style scoped>\n",
       "    .dataframe tbody tr th:only-of-type {\n",
       "        vertical-align: middle;\n",
       "    }\n",
       "\n",
       "    .dataframe tbody tr th {\n",
       "        vertical-align: top;\n",
       "    }\n",
       "\n",
       "    .dataframe thead th {\n",
       "        text-align: right;\n",
       "    }\n",
       "</style>\n",
       "<table border=\"1\" class=\"dataframe\">\n",
       "  <thead>\n",
       "    <tr style=\"text-align: right;\">\n",
       "      <th></th>\n",
       "      <th>userID</th>\n",
       "      <th>itemID</th>\n",
       "      <th>rating</th>\n",
       "    </tr>\n",
       "  </thead>\n",
       "  <tbody>\n",
       "    <tr>\n",
       "      <th>0</th>\n",
       "      <td>11</td>\n",
       "      <td>4643</td>\n",
       "      <td>1</td>\n",
       "    </tr>\n",
       "    <tr>\n",
       "      <th>1</th>\n",
       "      <td>11</td>\n",
       "      <td>170</td>\n",
       "      <td>1</td>\n",
       "    </tr>\n",
       "    <tr>\n",
       "      <th>2</th>\n",
       "      <td>11</td>\n",
       "      <td>531</td>\n",
       "      <td>1</td>\n",
       "    </tr>\n",
       "    <tr>\n",
       "      <th>3</th>\n",
       "      <td>11</td>\n",
       "      <td>616</td>\n",
       "      <td>1</td>\n",
       "    </tr>\n",
       "    <tr>\n",
       "      <th>4</th>\n",
       "      <td>11</td>\n",
       "      <td>2140</td>\n",
       "      <td>1</td>\n",
       "    </tr>\n",
       "  </tbody>\n",
       "</table>\n",
       "</div>"
      ],
      "text/plain": [
       "   userID  itemID  rating\n",
       "0      11    4643       1\n",
       "1      11     170       1\n",
       "2      11     531       1\n",
       "3      11     616       1\n",
       "4      11    2140       1"
      ]
     },
     "execution_count": 9,
     "metadata": {},
     "output_type": "execute_result"
    }
   ],
   "source": [
    "data['rating'] = 1\n",
    "data.head()"
   ]
  },
  {
   "cell_type": "code",
   "execution_count": 10,
   "metadata": {},
   "outputs": [],
   "source": [
    "train, test = python_random_split(data, 0.75)"
   ]
  },
  {
   "cell_type": "code",
   "execution_count": 11,
   "metadata": {},
   "outputs": [
    {
     "name": "stdout",
     "output_type": "stream",
     "text": [
      "Number of users: 31360\n",
      "Number of items: 6807\n"
     ]
    }
   ],
   "source": [
    "train_set = cornac.data.Dataset.from_uir(train.itertuples(index=False), seed=SEED)\n",
    "\n",
    "print('Number of users: {}'.format(train_set.num_users))\n",
    "print('Number of items: {}'.format(train_set.num_items))"
   ]
  },
  {
   "cell_type": "code",
   "execution_count": 12,
   "metadata": {},
   "outputs": [
    {
     "data": {
      "application/vnd.jupyter.widget-view+json": {
       "model_id": "e6125656b3704f6f8bdb62610711a6c7",
       "version_major": 2,
       "version_minor": 0
      },
      "text/plain": [
       "  0%|          | 0/500 [00:00<?, ?it/s]"
      ]
     },
     "metadata": {},
     "output_type": "display_data"
    },
    {
     "name": "stdout",
     "output_type": "stream",
     "text": [
      "Took 3502.8108 seconds for training.\n"
     ]
    }
   ],
   "source": [
    "bivae = cornac.models.BiVAECF(\n",
    "    k=LATENT_DIM,\n",
    "    encoder_structure=ENCODER_DIMS,\n",
    "    act_fn=ACT_FUNC,\n",
    "    likelihood=LIKELIHOOD,\n",
    "    n_epochs=NUM_EPOCHS,\n",
    "    batch_size=BATCH_SIZE,\n",
    "    learning_rate=LEARNING_RATE,\n",
    "    seed=SEED,\n",
    "    use_gpu=torch.cuda.is_available(),\n",
    "    verbose=True\n",
    ")\n",
    "\n",
    "with Timer() as t:\n",
    "    bivae.fit(train_set)\n",
    "print(\"Took {} seconds for training.\".format(t))"
   ]
  },
  {
   "cell_type": "code",
   "execution_count": 13,
   "metadata": {},
   "outputs": [
    {
     "name": "stdout",
     "output_type": "stream",
     "text": [
      "Took 242.9335 seconds for prediction.\n"
     ]
    }
   ],
   "source": [
    "with Timer() as t:\n",
    "    all_predictions = predict_ranking(bivae, test, usercol='userID', itemcol='itemID', remove_seen=True)\n",
    "print(\"Took {} seconds for prediction.\".format(t))"
   ]
  },
  {
   "cell_type": "code",
   "execution_count": 14,
   "metadata": {},
   "outputs": [
    {
     "name": "stdout",
     "output_type": "stream",
     "text": [
      "MAP:\t0.000000\n",
      "NDCG:\t0.000000\n",
      "Precision@K:\t0.000000\n",
      "Recall@K:\t0.000000\n"
     ]
    }
   ],
   "source": [
    "eval_map = map_at_k(test, all_predictions, col_prediction='prediction', k=TOP_K)\n",
    "eval_ndcg = ndcg_at_k(test, all_predictions, col_prediction='prediction', k=TOP_K)\n",
    "eval_precision = precision_at_k(test, all_predictions, col_prediction='prediction', k=TOP_K)\n",
    "eval_recall = recall_at_k(test, all_predictions, col_prediction='prediction', k=TOP_K)\n",
    "\n",
    "print(\"MAP:\\t%f\" % eval_map,\n",
    "      \"NDCG:\\t%f\" % eval_ndcg,\n",
    "      \"Precision@K:\\t%f\" % eval_precision,\n",
    "      \"Recall@K:\\t%f\" % eval_recall, sep='\\n')"
   ]
  },
  {
   "cell_type": "code",
   "execution_count": 16,
   "metadata": {},
   "outputs": [
    {
     "data": {
      "text/html": [
       "<div>\n",
       "<style scoped>\n",
       "    .dataframe tbody tr th:only-of-type {\n",
       "        vertical-align: middle;\n",
       "    }\n",
       "\n",
       "    .dataframe tbody tr th {\n",
       "        vertical-align: top;\n",
       "    }\n",
       "\n",
       "    .dataframe thead th {\n",
       "        text-align: right;\n",
       "    }\n",
       "</style>\n",
       "<table border=\"1\" class=\"dataframe\">\n",
       "  <thead>\n",
       "    <tr style=\"text-align: right;\">\n",
       "      <th></th>\n",
       "      <th>userID</th>\n",
       "      <th>itemID</th>\n",
       "      <th>prediction</th>\n",
       "    </tr>\n",
       "  </thead>\n",
       "  <tbody>\n",
       "    <tr>\n",
       "      <th>1288618</th>\n",
       "      <td>69029</td>\n",
       "      <td>5902</td>\n",
       "      <td>0.473038</td>\n",
       "    </tr>\n",
       "    <tr>\n",
       "      <th>1288619</th>\n",
       "      <td>69029</td>\n",
       "      <td>4896</td>\n",
       "      <td>0.158540</td>\n",
       "    </tr>\n",
       "    <tr>\n",
       "      <th>1288620</th>\n",
       "      <td>69029</td>\n",
       "      <td>253</td>\n",
       "      <td>0.157383</td>\n",
       "    </tr>\n",
       "    <tr>\n",
       "      <th>1288621</th>\n",
       "      <td>69029</td>\n",
       "      <td>924</td>\n",
       "      <td>0.595679</td>\n",
       "    </tr>\n",
       "    <tr>\n",
       "      <th>1288622</th>\n",
       "      <td>69029</td>\n",
       "      <td>33166</td>\n",
       "      <td>0.285728</td>\n",
       "    </tr>\n",
       "    <tr>\n",
       "      <th>...</th>\n",
       "      <td>...</td>\n",
       "      <td>...</td>\n",
       "      <td>...</td>\n",
       "    </tr>\n",
       "    <tr>\n",
       "      <th>1295362</th>\n",
       "      <td>69029</td>\n",
       "      <td>49276</td>\n",
       "      <td>0.000008</td>\n",
       "    </tr>\n",
       "    <tr>\n",
       "      <th>1295363</th>\n",
       "      <td>69029</td>\n",
       "      <td>2170</td>\n",
       "      <td>0.000018</td>\n",
       "    </tr>\n",
       "    <tr>\n",
       "      <th>1295364</th>\n",
       "      <td>69029</td>\n",
       "      <td>43</td>\n",
       "      <td>0.000241</td>\n",
       "    </tr>\n",
       "    <tr>\n",
       "      <th>1295365</th>\n",
       "      <td>69029</td>\n",
       "      <td>27744</td>\n",
       "      <td>0.000087</td>\n",
       "    </tr>\n",
       "    <tr>\n",
       "      <th>1295366</th>\n",
       "      <td>69029</td>\n",
       "      <td>110591</td>\n",
       "      <td>0.000063</td>\n",
       "    </tr>\n",
       "  </tbody>\n",
       "</table>\n",
       "<p>6749 rows × 3 columns</p>\n",
       "</div>"
      ],
      "text/plain": [
       "         userID  itemID  prediction\n",
       "1288618   69029    5902    0.473038\n",
       "1288619   69029    4896    0.158540\n",
       "1288620   69029     253    0.157383\n",
       "1288621   69029     924    0.595679\n",
       "1288622   69029   33166    0.285728\n",
       "...         ...     ...         ...\n",
       "1295362   69029   49276    0.000008\n",
       "1295363   69029    2170    0.000018\n",
       "1295364   69029      43    0.000241\n",
       "1295365   69029   27744    0.000087\n",
       "1295366   69029  110591    0.000063\n",
       "\n",
       "[6749 rows x 3 columns]"
      ]
     },
     "execution_count": 16,
     "metadata": {},
     "output_type": "execute_result"
    }
   ],
   "source": [
    "all_predictions[all_predictions['userID'] == 69029]"
   ]
  },
  {
   "cell_type": "code",
   "execution_count": 22,
   "metadata": {},
   "outputs": [],
   "source": [
    "users = list(data['userID'].unique())"
   ]
  },
  {
   "cell_type": "code",
   "execution_count": 38,
   "metadata": {},
   "outputs": [
    {
     "ename": "KeyboardInterrupt",
     "evalue": "",
     "output_type": "error",
     "traceback": [
      "\u001b[0;31m---------------------------------------------------------------------------\u001b[0m",
      "\u001b[0;31mKeyboardInterrupt\u001b[0m                         Traceback (most recent call last)",
      "\u001b[1;32m/opt/ml/BiVAE.ipynb Cell 15'\u001b[0m in \u001b[0;36m<cell line: 3>\u001b[0;34m()\u001b[0m\n\u001b[1;32m      <a href='vscode-notebook-cell://ssh-remote%2B118.67.135.132/opt/ml/BiVAE.ipynb#ch0000012vscode-remote?line=0'>1</a>\u001b[0m submission \u001b[39m=\u001b[39m pd\u001b[39m.\u001b[39mDataFrame()\n\u001b[1;32m      <a href='vscode-notebook-cell://ssh-remote%2B118.67.135.132/opt/ml/BiVAE.ipynb#ch0000012vscode-remote?line=2'>3</a>\u001b[0m \u001b[39mfor\u001b[39;00m user \u001b[39min\u001b[39;00m users:\n\u001b[0;32m----> <a href='vscode-notebook-cell://ssh-remote%2B118.67.135.132/opt/ml/BiVAE.ipynb#ch0000012vscode-remote?line=3'>4</a>\u001b[0m     interaction \u001b[39m=\u001b[39m all_predictions[all_predictions[\u001b[39m'\u001b[39;49m\u001b[39muserID\u001b[39;49m\u001b[39m'\u001b[39;49m]\u001b[39m==\u001b[39;49muser]\n\u001b[1;32m      <a href='vscode-notebook-cell://ssh-remote%2B118.67.135.132/opt/ml/BiVAE.ipynb#ch0000012vscode-remote?line=4'>5</a>\u001b[0m     interaction \u001b[39m=\u001b[39m interaction\u001b[39m.\u001b[39msort_values(by\u001b[39m=\u001b[39m[\u001b[39m'\u001b[39m\u001b[39mprediction\u001b[39m\u001b[39m'\u001b[39m], ascending\u001b[39m=\u001b[39m\u001b[39mFalse\u001b[39;00m)\u001b[39m.\u001b[39miloc[:\u001b[39m10\u001b[39m]\n\u001b[1;32m      <a href='vscode-notebook-cell://ssh-remote%2B118.67.135.132/opt/ml/BiVAE.ipynb#ch0000012vscode-remote?line=5'>6</a>\u001b[0m     submission \u001b[39m=\u001b[39m pd\u001b[39m.\u001b[39mconcat([submission, interaction])\n",
      "File \u001b[0;32m/opt/conda/lib/python3.8/site-packages/pandas/core/ops/common.py:70\u001b[0m, in \u001b[0;36m_unpack_zerodim_and_defer.<locals>.new_method\u001b[0;34m(self, other)\u001b[0m\n\u001b[1;32m     <a href='file:///opt/conda/lib/python3.8/site-packages/pandas/core/ops/common.py?line=65'>66</a>\u001b[0m             \u001b[39mreturn\u001b[39;00m \u001b[39mNotImplemented\u001b[39m\n\u001b[1;32m     <a href='file:///opt/conda/lib/python3.8/site-packages/pandas/core/ops/common.py?line=67'>68</a>\u001b[0m other \u001b[39m=\u001b[39m item_from_zerodim(other)\n\u001b[0;32m---> <a href='file:///opt/conda/lib/python3.8/site-packages/pandas/core/ops/common.py?line=69'>70</a>\u001b[0m \u001b[39mreturn\u001b[39;00m method(\u001b[39mself\u001b[39;49m, other)\n",
      "File \u001b[0;32m/opt/conda/lib/python3.8/site-packages/pandas/core/arraylike.py:40\u001b[0m, in \u001b[0;36mOpsMixin.__eq__\u001b[0;34m(self, other)\u001b[0m\n\u001b[1;32m     <a href='file:///opt/conda/lib/python3.8/site-packages/pandas/core/arraylike.py?line=37'>38</a>\u001b[0m \u001b[39m@unpack_zerodim_and_defer\u001b[39m(\u001b[39m\"\u001b[39m\u001b[39m__eq__\u001b[39m\u001b[39m\"\u001b[39m)\n\u001b[1;32m     <a href='file:///opt/conda/lib/python3.8/site-packages/pandas/core/arraylike.py?line=38'>39</a>\u001b[0m \u001b[39mdef\u001b[39;00m \u001b[39m__eq__\u001b[39m(\u001b[39mself\u001b[39m, other):\n\u001b[0;32m---> <a href='file:///opt/conda/lib/python3.8/site-packages/pandas/core/arraylike.py?line=39'>40</a>\u001b[0m     \u001b[39mreturn\u001b[39;00m \u001b[39mself\u001b[39;49m\u001b[39m.\u001b[39;49m_cmp_method(other, operator\u001b[39m.\u001b[39;49meq)\n",
      "File \u001b[0;32m/opt/conda/lib/python3.8/site-packages/pandas/core/series.py:5623\u001b[0m, in \u001b[0;36mSeries._cmp_method\u001b[0;34m(self, other, op)\u001b[0m\n\u001b[1;32m   <a href='file:///opt/conda/lib/python3.8/site-packages/pandas/core/series.py?line=5619'>5620</a>\u001b[0m rvalues \u001b[39m=\u001b[39m extract_array(other, extract_numpy\u001b[39m=\u001b[39m\u001b[39mTrue\u001b[39;00m, extract_range\u001b[39m=\u001b[39m\u001b[39mTrue\u001b[39;00m)\n\u001b[1;32m   <a href='file:///opt/conda/lib/python3.8/site-packages/pandas/core/series.py?line=5621'>5622</a>\u001b[0m \u001b[39mwith\u001b[39;00m np\u001b[39m.\u001b[39merrstate(\u001b[39mall\u001b[39m\u001b[39m=\u001b[39m\u001b[39m\"\u001b[39m\u001b[39mignore\u001b[39m\u001b[39m\"\u001b[39m):\n\u001b[0;32m-> <a href='file:///opt/conda/lib/python3.8/site-packages/pandas/core/series.py?line=5622'>5623</a>\u001b[0m     res_values \u001b[39m=\u001b[39m ops\u001b[39m.\u001b[39;49mcomparison_op(lvalues, rvalues, op)\n\u001b[1;32m   <a href='file:///opt/conda/lib/python3.8/site-packages/pandas/core/series.py?line=5624'>5625</a>\u001b[0m \u001b[39mreturn\u001b[39;00m \u001b[39mself\u001b[39m\u001b[39m.\u001b[39m_construct_result(res_values, name\u001b[39m=\u001b[39mres_name)\n",
      "File \u001b[0;32m/opt/conda/lib/python3.8/site-packages/pandas/core/ops/array_ops.py:286\u001b[0m, in \u001b[0;36mcomparison_op\u001b[0;34m(left, right, op)\u001b[0m\n\u001b[1;32m    <a href='file:///opt/conda/lib/python3.8/site-packages/pandas/core/ops/array_ops.py?line=282'>283</a>\u001b[0m     res_values \u001b[39m=\u001b[39m comp_method_OBJECT_ARRAY(op, lvalues, rvalues)\n\u001b[1;32m    <a href='file:///opt/conda/lib/python3.8/site-packages/pandas/core/ops/array_ops.py?line=284'>285</a>\u001b[0m \u001b[39melse\u001b[39;00m:\n\u001b[0;32m--> <a href='file:///opt/conda/lib/python3.8/site-packages/pandas/core/ops/array_ops.py?line=285'>286</a>\u001b[0m     res_values \u001b[39m=\u001b[39m _na_arithmetic_op(lvalues, rvalues, op, is_cmp\u001b[39m=\u001b[39;49m\u001b[39mTrue\u001b[39;49;00m)\n\u001b[1;32m    <a href='file:///opt/conda/lib/python3.8/site-packages/pandas/core/ops/array_ops.py?line=287'>288</a>\u001b[0m \u001b[39mreturn\u001b[39;00m res_values\n",
      "File \u001b[0;32m/opt/conda/lib/python3.8/site-packages/pandas/core/ops/array_ops.py:163\u001b[0m, in \u001b[0;36m_na_arithmetic_op\u001b[0;34m(left, right, op, is_cmp)\u001b[0m\n\u001b[1;32m    <a href='file:///opt/conda/lib/python3.8/site-packages/pandas/core/ops/array_ops.py?line=159'>160</a>\u001b[0m     func \u001b[39m=\u001b[39m partial(expressions\u001b[39m.\u001b[39mevaluate, op)\n\u001b[1;32m    <a href='file:///opt/conda/lib/python3.8/site-packages/pandas/core/ops/array_ops.py?line=161'>162</a>\u001b[0m \u001b[39mtry\u001b[39;00m:\n\u001b[0;32m--> <a href='file:///opt/conda/lib/python3.8/site-packages/pandas/core/ops/array_ops.py?line=162'>163</a>\u001b[0m     result \u001b[39m=\u001b[39m func(left, right)\n\u001b[1;32m    <a href='file:///opt/conda/lib/python3.8/site-packages/pandas/core/ops/array_ops.py?line=163'>164</a>\u001b[0m \u001b[39mexcept\u001b[39;00m \u001b[39mTypeError\u001b[39;00m:\n\u001b[1;32m    <a href='file:///opt/conda/lib/python3.8/site-packages/pandas/core/ops/array_ops.py?line=164'>165</a>\u001b[0m     \u001b[39mif\u001b[39;00m \u001b[39mnot\u001b[39;00m is_cmp \u001b[39mand\u001b[39;00m (is_object_dtype(left\u001b[39m.\u001b[39mdtype) \u001b[39mor\u001b[39;00m is_object_dtype(right)):\n\u001b[1;32m    <a href='file:///opt/conda/lib/python3.8/site-packages/pandas/core/ops/array_ops.py?line=165'>166</a>\u001b[0m         \u001b[39m# For object dtype, fallback to a masked operation (only operating\u001b[39;00m\n\u001b[1;32m    <a href='file:///opt/conda/lib/python3.8/site-packages/pandas/core/ops/array_ops.py?line=166'>167</a>\u001b[0m         \u001b[39m#  on the non-missing values)\u001b[39;00m\n\u001b[1;32m    <a href='file:///opt/conda/lib/python3.8/site-packages/pandas/core/ops/array_ops.py?line=167'>168</a>\u001b[0m         \u001b[39m# Don't do this for comparisons, as that will handle complex numbers\u001b[39;00m\n\u001b[1;32m    <a href='file:///opt/conda/lib/python3.8/site-packages/pandas/core/ops/array_ops.py?line=168'>169</a>\u001b[0m         \u001b[39m#  incorrectly, see GH#32047\u001b[39;00m\n",
      "File \u001b[0;32m/opt/conda/lib/python3.8/site-packages/pandas/core/computation/expressions.py:239\u001b[0m, in \u001b[0;36mevaluate\u001b[0;34m(op, a, b, use_numexpr)\u001b[0m\n\u001b[1;32m    <a href='file:///opt/conda/lib/python3.8/site-packages/pandas/core/computation/expressions.py?line=235'>236</a>\u001b[0m \u001b[39mif\u001b[39;00m op_str \u001b[39mis\u001b[39;00m \u001b[39mnot\u001b[39;00m \u001b[39mNone\u001b[39;00m:\n\u001b[1;32m    <a href='file:///opt/conda/lib/python3.8/site-packages/pandas/core/computation/expressions.py?line=236'>237</a>\u001b[0m     \u001b[39mif\u001b[39;00m use_numexpr:\n\u001b[1;32m    <a href='file:///opt/conda/lib/python3.8/site-packages/pandas/core/computation/expressions.py?line=237'>238</a>\u001b[0m         \u001b[39m# error: \"None\" not callable\u001b[39;00m\n\u001b[0;32m--> <a href='file:///opt/conda/lib/python3.8/site-packages/pandas/core/computation/expressions.py?line=238'>239</a>\u001b[0m         \u001b[39mreturn\u001b[39;00m _evaluate(op, op_str, a, b)  \u001b[39m# type: ignore[misc]\u001b[39;00m\n\u001b[1;32m    <a href='file:///opt/conda/lib/python3.8/site-packages/pandas/core/computation/expressions.py?line=239'>240</a>\u001b[0m \u001b[39mreturn\u001b[39;00m _evaluate_standard(op, op_str, a, b)\n",
      "File \u001b[0;32m/opt/conda/lib/python3.8/site-packages/pandas/core/computation/expressions.py:69\u001b[0m, in \u001b[0;36m_evaluate_standard\u001b[0;34m(op, op_str, a, b)\u001b[0m\n\u001b[1;32m     <a href='file:///opt/conda/lib/python3.8/site-packages/pandas/core/computation/expressions.py?line=66'>67</a>\u001b[0m \u001b[39mif\u001b[39;00m _TEST_MODE:\n\u001b[1;32m     <a href='file:///opt/conda/lib/python3.8/site-packages/pandas/core/computation/expressions.py?line=67'>68</a>\u001b[0m     _store_test_result(\u001b[39mFalse\u001b[39;00m)\n\u001b[0;32m---> <a href='file:///opt/conda/lib/python3.8/site-packages/pandas/core/computation/expressions.py?line=68'>69</a>\u001b[0m \u001b[39mreturn\u001b[39;00m op(a, b)\n",
      "\u001b[0;31mKeyboardInterrupt\u001b[0m: "
     ]
    }
   ],
   "source": [
    "submission = pd.DataFrame()\n",
    "\n",
    "for user in users:\n",
    "    interaction = all_predictions[all_predictions['userID']==user]\n",
    "    interaction = interaction.sort_values(by=['prediction'], ascending=False).iloc[:10]\n",
    "    submission = pd.concat([submission, interaction])\n",
    "    \n",
    "    \n",
    "\n",
    "print(submission)"
   ]
  },
  {
   "cell_type": "code",
   "execution_count": 39,
   "metadata": {},
   "outputs": [
    {
     "data": {
      "text/html": [
       "<div>\n",
       "<style scoped>\n",
       "    .dataframe tbody tr th:only-of-type {\n",
       "        vertical-align: middle;\n",
       "    }\n",
       "\n",
       "    .dataframe tbody tr th {\n",
       "        vertical-align: top;\n",
       "    }\n",
       "\n",
       "    .dataframe thead th {\n",
       "        text-align: right;\n",
       "    }\n",
       "</style>\n",
       "<table border=\"1\" class=\"dataframe\">\n",
       "  <thead>\n",
       "    <tr style=\"text-align: right;\">\n",
       "      <th></th>\n",
       "      <th>userID</th>\n",
       "      <th>itemID</th>\n",
       "      <th>prediction</th>\n",
       "    </tr>\n",
       "  </thead>\n",
       "  <tbody>\n",
       "    <tr>\n",
       "      <th>17053044</th>\n",
       "      <td>11</td>\n",
       "      <td>6365</td>\n",
       "      <td>0.713736</td>\n",
       "    </tr>\n",
       "    <tr>\n",
       "      <th>17052838</th>\n",
       "      <td>11</td>\n",
       "      <td>4993</td>\n",
       "      <td>0.675530</td>\n",
       "    </tr>\n",
       "    <tr>\n",
       "      <th>17052811</th>\n",
       "      <td>11</td>\n",
       "      <td>6502</td>\n",
       "      <td>0.667166</td>\n",
       "    </tr>\n",
       "    <tr>\n",
       "      <th>17052971</th>\n",
       "      <td>11</td>\n",
       "      <td>780</td>\n",
       "      <td>0.656038</td>\n",
       "    </tr>\n",
       "    <tr>\n",
       "      <th>17053410</th>\n",
       "      <td>11</td>\n",
       "      <td>5952</td>\n",
       "      <td>0.655307</td>\n",
       "    </tr>\n",
       "    <tr>\n",
       "      <th>...</th>\n",
       "      <td>...</td>\n",
       "      <td>...</td>\n",
       "      <td>...</td>\n",
       "    </tr>\n",
       "    <tr>\n",
       "      <th>180548767</th>\n",
       "      <td>102813</td>\n",
       "      <td>3535</td>\n",
       "      <td>0.414706</td>\n",
       "    </tr>\n",
       "    <tr>\n",
       "      <th>180549106</th>\n",
       "      <td>102813</td>\n",
       "      <td>2329</td>\n",
       "      <td>0.413652</td>\n",
       "    </tr>\n",
       "    <tr>\n",
       "      <th>180549414</th>\n",
       "      <td>102813</td>\n",
       "      <td>8957</td>\n",
       "      <td>0.383607</td>\n",
       "    </tr>\n",
       "    <tr>\n",
       "      <th>180548923</th>\n",
       "      <td>102813</td>\n",
       "      <td>48394</td>\n",
       "      <td>0.375871</td>\n",
       "    </tr>\n",
       "    <tr>\n",
       "      <th>180548576</th>\n",
       "      <td>102813</td>\n",
       "      <td>4878</td>\n",
       "      <td>0.369153</td>\n",
       "    </tr>\n",
       "  </tbody>\n",
       "</table>\n",
       "<p>234200 rows × 3 columns</p>\n",
       "</div>"
      ],
      "text/plain": [
       "           userID  itemID  prediction\n",
       "17053044       11    6365    0.713736\n",
       "17052838       11    4993    0.675530\n",
       "17052811       11    6502    0.667166\n",
       "17052971       11     780    0.656038\n",
       "17053410       11    5952    0.655307\n",
       "...           ...     ...         ...\n",
       "180548767  102813    3535    0.414706\n",
       "180549106  102813    2329    0.413652\n",
       "180549414  102813    8957    0.383607\n",
       "180548923  102813   48394    0.375871\n",
       "180548576  102813    4878    0.369153\n",
       "\n",
       "[234200 rows x 3 columns]"
      ]
     },
     "execution_count": 39,
     "metadata": {},
     "output_type": "execute_result"
    }
   ],
   "source": [
    "submission"
   ]
  },
  {
   "cell_type": "code",
   "execution_count": 41,
   "metadata": {},
   "outputs": [],
   "source": [
    "pred_userid = all_predictions['userID'].tolist()"
   ]
  },
  {
   "cell_type": "code",
   "execution_count": 43,
   "metadata": {},
   "outputs": [],
   "source": [
    "pred_user_set = set(pred_userid)"
   ]
  },
  {
   "cell_type": "code",
   "execution_count": 44,
   "metadata": {},
   "outputs": [
    {
     "data": {
      "text/plain": [
       "31360"
      ]
     },
     "execution_count": 44,
     "metadata": {},
     "output_type": "execute_result"
    }
   ],
   "source": [
    "len(pred_user_set)"
   ]
  },
  {
   "cell_type": "code",
   "execution_count": 45,
   "metadata": {},
   "outputs": [
    {
     "data": {
      "text/plain": [
       "31360"
      ]
     },
     "execution_count": 45,
     "metadata": {},
     "output_type": "execute_result"
    }
   ],
   "source": [
    "len(users)"
   ]
  },
  {
   "cell_type": "code",
   "execution_count": 46,
   "metadata": {},
   "outputs": [
    {
     "data": {
      "text/html": [
       "<div>\n",
       "<style scoped>\n",
       "    .dataframe tbody tr th:only-of-type {\n",
       "        vertical-align: middle;\n",
       "    }\n",
       "\n",
       "    .dataframe tbody tr th {\n",
       "        vertical-align: top;\n",
       "    }\n",
       "\n",
       "    .dataframe thead th {\n",
       "        text-align: right;\n",
       "    }\n",
       "</style>\n",
       "<table border=\"1\" class=\"dataframe\">\n",
       "  <thead>\n",
       "    <tr style=\"text-align: right;\">\n",
       "      <th></th>\n",
       "      <th>userID</th>\n",
       "      <th>itemID</th>\n",
       "      <th>prediction</th>\n",
       "    </tr>\n",
       "  </thead>\n",
       "  <tbody>\n",
       "    <tr>\n",
       "      <th>17053044</th>\n",
       "      <td>11</td>\n",
       "      <td>6365</td>\n",
       "      <td>0.713736</td>\n",
       "    </tr>\n",
       "    <tr>\n",
       "      <th>17052838</th>\n",
       "      <td>11</td>\n",
       "      <td>4993</td>\n",
       "      <td>0.675530</td>\n",
       "    </tr>\n",
       "    <tr>\n",
       "      <th>17052811</th>\n",
       "      <td>11</td>\n",
       "      <td>6502</td>\n",
       "      <td>0.667166</td>\n",
       "    </tr>\n",
       "    <tr>\n",
       "      <th>17052971</th>\n",
       "      <td>11</td>\n",
       "      <td>780</td>\n",
       "      <td>0.656038</td>\n",
       "    </tr>\n",
       "    <tr>\n",
       "      <th>17053410</th>\n",
       "      <td>11</td>\n",
       "      <td>5952</td>\n",
       "      <td>0.655307</td>\n",
       "    </tr>\n",
       "    <tr>\n",
       "      <th>...</th>\n",
       "      <td>...</td>\n",
       "      <td>...</td>\n",
       "      <td>...</td>\n",
       "    </tr>\n",
       "    <tr>\n",
       "      <th>180548767</th>\n",
       "      <td>102813</td>\n",
       "      <td>3535</td>\n",
       "      <td>0.414706</td>\n",
       "    </tr>\n",
       "    <tr>\n",
       "      <th>180549106</th>\n",
       "      <td>102813</td>\n",
       "      <td>2329</td>\n",
       "      <td>0.413652</td>\n",
       "    </tr>\n",
       "    <tr>\n",
       "      <th>180549414</th>\n",
       "      <td>102813</td>\n",
       "      <td>8957</td>\n",
       "      <td>0.383607</td>\n",
       "    </tr>\n",
       "    <tr>\n",
       "      <th>180548923</th>\n",
       "      <td>102813</td>\n",
       "      <td>48394</td>\n",
       "      <td>0.375871</td>\n",
       "    </tr>\n",
       "    <tr>\n",
       "      <th>180548576</th>\n",
       "      <td>102813</td>\n",
       "      <td>4878</td>\n",
       "      <td>0.369153</td>\n",
       "    </tr>\n",
       "  </tbody>\n",
       "</table>\n",
       "<p>234200 rows × 3 columns</p>\n",
       "</div>"
      ],
      "text/plain": [
       "           userID  itemID  prediction\n",
       "17053044       11    6365    0.713736\n",
       "17052838       11    4993    0.675530\n",
       "17052811       11    6502    0.667166\n",
       "17052971       11     780    0.656038\n",
       "17053410       11    5952    0.655307\n",
       "...           ...     ...         ...\n",
       "180548767  102813    3535    0.414706\n",
       "180549106  102813    2329    0.413652\n",
       "180549414  102813    8957    0.383607\n",
       "180548923  102813   48394    0.375871\n",
       "180548576  102813    4878    0.369153\n",
       "\n",
       "[234200 rows x 3 columns]"
      ]
     },
     "execution_count": 46,
     "metadata": {},
     "output_type": "execute_result"
    }
   ],
   "source": [
    "submission"
   ]
  },
  {
   "cell_type": "code",
   "execution_count": 51,
   "metadata": {},
   "outputs": [
    {
     "data": {
      "text/html": [
       "<div>\n",
       "<style scoped>\n",
       "    .dataframe tbody tr th:only-of-type {\n",
       "        vertical-align: middle;\n",
       "    }\n",
       "\n",
       "    .dataframe tbody tr th {\n",
       "        vertical-align: top;\n",
       "    }\n",
       "\n",
       "    .dataframe thead th {\n",
       "        text-align: right;\n",
       "    }\n",
       "</style>\n",
       "<table border=\"1\" class=\"dataframe\">\n",
       "  <thead>\n",
       "    <tr style=\"text-align: right;\">\n",
       "      <th></th>\n",
       "      <th>userID</th>\n",
       "      <th>itemID</th>\n",
       "      <th>prediction</th>\n",
       "    </tr>\n",
       "  </thead>\n",
       "  <tbody>\n",
       "    <tr>\n",
       "      <th>1288618</th>\n",
       "      <td>69029</td>\n",
       "      <td>5902</td>\n",
       "      <td>0.473038</td>\n",
       "    </tr>\n",
       "    <tr>\n",
       "      <th>1288619</th>\n",
       "      <td>69029</td>\n",
       "      <td>4896</td>\n",
       "      <td>0.158540</td>\n",
       "    </tr>\n",
       "    <tr>\n",
       "      <th>1288620</th>\n",
       "      <td>69029</td>\n",
       "      <td>253</td>\n",
       "      <td>0.157383</td>\n",
       "    </tr>\n",
       "    <tr>\n",
       "      <th>1288621</th>\n",
       "      <td>69029</td>\n",
       "      <td>924</td>\n",
       "      <td>0.595679</td>\n",
       "    </tr>\n",
       "    <tr>\n",
       "      <th>1288622</th>\n",
       "      <td>69029</td>\n",
       "      <td>33166</td>\n",
       "      <td>0.285728</td>\n",
       "    </tr>\n",
       "    <tr>\n",
       "      <th>...</th>\n",
       "      <td>...</td>\n",
       "      <td>...</td>\n",
       "      <td>...</td>\n",
       "    </tr>\n",
       "    <tr>\n",
       "      <th>1288913</th>\n",
       "      <td>69029</td>\n",
       "      <td>6539</td>\n",
       "      <td>0.452225</td>\n",
       "    </tr>\n",
       "    <tr>\n",
       "      <th>1288914</th>\n",
       "      <td>69029</td>\n",
       "      <td>6122</td>\n",
       "      <td>0.001120</td>\n",
       "    </tr>\n",
       "    <tr>\n",
       "      <th>1288915</th>\n",
       "      <td>69029</td>\n",
       "      <td>3147</td>\n",
       "      <td>0.398187</td>\n",
       "    </tr>\n",
       "    <tr>\n",
       "      <th>1288916</th>\n",
       "      <td>69029</td>\n",
       "      <td>2524</td>\n",
       "      <td>0.000221</td>\n",
       "    </tr>\n",
       "    <tr>\n",
       "      <th>1288917</th>\n",
       "      <td>69029</td>\n",
       "      <td>497</td>\n",
       "      <td>0.099249</td>\n",
       "    </tr>\n",
       "  </tbody>\n",
       "</table>\n",
       "<p>300 rows × 3 columns</p>\n",
       "</div>"
      ],
      "text/plain": [
       "         userID  itemID  prediction\n",
       "1288618   69029    5902    0.473038\n",
       "1288619   69029    4896    0.158540\n",
       "1288620   69029     253    0.157383\n",
       "1288621   69029     924    0.595679\n",
       "1288622   69029   33166    0.285728\n",
       "...         ...     ...         ...\n",
       "1288913   69029    6539    0.452225\n",
       "1288914   69029    6122    0.001120\n",
       "1288915   69029    3147    0.398187\n",
       "1288916   69029    2524    0.000221\n",
       "1288917   69029     497    0.099249\n",
       "\n",
       "[300 rows x 3 columns]"
      ]
     },
     "execution_count": 51,
     "metadata": {},
     "output_type": "execute_result"
    }
   ],
   "source": [
    "all_predictions.iloc[:300]"
   ]
  },
  {
   "cell_type": "code",
   "execution_count": null,
   "metadata": {},
   "outputs": [],
   "source": []
  }
 ],
 "metadata": {
  "interpreter": {
   "hash": "d4d1e4263499bec80672ea0156c357c1ee493ec2b1c70f0acce89fc37c4a6abe"
  },
  "kernelspec": {
   "display_name": "Python 3.8.5 ('base')",
   "language": "python",
   "name": "python3"
  },
  "language_info": {
   "codemirror_mode": {
    "name": "ipython",
    "version": 3
   },
   "file_extension": ".py",
   "mimetype": "text/x-python",
   "name": "python",
   "nbconvert_exporter": "python",
   "pygments_lexer": "ipython3",
   "version": "3.8.13"
  },
  "orig_nbformat": 4
 },
 "nbformat": 4,
 "nbformat_minor": 2
}
